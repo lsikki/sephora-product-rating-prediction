{
 "cells": [
  {
   "cell_type": "markdown",
   "id": "343a8e56",
   "metadata": {},
   "source": [
    "## Obtaining the data"
   ]
  },
  {
   "cell_type": "code",
   "execution_count": 1,
   "id": "97137d51",
   "metadata": {},
   "outputs": [],
   "source": [
    "import os\n",
    "import glob\n",
    "import pandas as pd"
   ]
  },
  {
   "cell_type": "code",
   "execution_count": 2,
   "id": "15f8d285",
   "metadata": {},
   "outputs": [
    {
     "data": {
      "text/plain": [
       "['product_info.csv',\n",
       " 'reviews_0-250.csv',\n",
       " 'reviews_1250-end.csv',\n",
       " 'reviews_250-500.csv',\n",
       " 'reviews_500-750.csv',\n",
       " 'reviews_750-1250.csv']"
      ]
     },
     "execution_count": 2,
     "metadata": {},
     "output_type": "execute_result"
    }
   ],
   "source": [
    "# Here we print the names of all the csv files in this directory\n",
    "csv_files = glob.glob('*.{}'.format('csv'))\n",
    "csv_files"
   ]
  },
  {
   "cell_type": "code",
   "execution_count": 3,
   "id": "40324a54",
   "metadata": {},
   "outputs": [
    {
     "name": "stderr",
     "output_type": "stream",
     "text": [
      "C:\\Users\\lsikk\\AppData\\Local\\Temp\\ipykernel_27128\\2293361336.py:7: DtypeWarning: Columns (1) have mixed types. Specify dtype option on import or set low_memory=False.\n",
      "  df = pd.concat([df, pd.read_csv(file)])\n",
      "C:\\Users\\lsikk\\AppData\\Local\\Temp\\ipykernel_27128\\2293361336.py:7: DtypeWarning: Columns (1) have mixed types. Specify dtype option on import or set low_memory=False.\n",
      "  df = pd.concat([df, pd.read_csv(file)])\n",
      "C:\\Users\\lsikk\\AppData\\Local\\Temp\\ipykernel_27128\\2293361336.py:7: DtypeWarning: Columns (1) have mixed types. Specify dtype option on import or set low_memory=False.\n",
      "  df = pd.concat([df, pd.read_csv(file)])\n"
     ]
    },
    {
     "data": {
      "text/plain": [
       "1094411"
      ]
     },
     "execution_count": 3,
     "metadata": {},
     "output_type": "execute_result"
    }
   ],
   "source": [
    "# We only want the csv files containing reviews\n",
    "csv_files.pop(0)\n",
    "# csv_files.pop(0)\n",
    "# We will combine their contents into one data frame\n",
    "df = pd.DataFrame()\n",
    "for file in csv_files:\n",
    "    df = pd.concat([df, pd.read_csv(file)])\n",
    "len(df)"
   ]
  },
  {
   "cell_type": "code",
   "execution_count": 4,
   "id": "992c5611",
   "metadata": {},
   "outputs": [
    {
     "data": {
      "text/html": [
       "<div>\n",
       "<style scoped>\n",
       "    .dataframe tbody tr th:only-of-type {\n",
       "        vertical-align: middle;\n",
       "    }\n",
       "\n",
       "    .dataframe tbody tr th {\n",
       "        vertical-align: top;\n",
       "    }\n",
       "\n",
       "    .dataframe thead th {\n",
       "        text-align: right;\n",
       "    }\n",
       "</style>\n",
       "<table border=\"1\" class=\"dataframe\">\n",
       "  <thead>\n",
       "    <tr style=\"text-align: right;\">\n",
       "      <th></th>\n",
       "      <th>Unnamed: 0</th>\n",
       "      <th>author_id</th>\n",
       "      <th>rating</th>\n",
       "      <th>is_recommended</th>\n",
       "      <th>helpfulness</th>\n",
       "      <th>total_feedback_count</th>\n",
       "      <th>total_neg_feedback_count</th>\n",
       "      <th>total_pos_feedback_count</th>\n",
       "      <th>submission_time</th>\n",
       "      <th>review_text</th>\n",
       "      <th>review_title</th>\n",
       "      <th>skin_tone</th>\n",
       "      <th>eye_color</th>\n",
       "      <th>skin_type</th>\n",
       "      <th>hair_color</th>\n",
       "      <th>product_id</th>\n",
       "      <th>product_name</th>\n",
       "      <th>brand_name</th>\n",
       "      <th>price_usd</th>\n",
       "    </tr>\n",
       "  </thead>\n",
       "  <tbody>\n",
       "    <tr>\n",
       "      <th>0</th>\n",
       "      <td>0</td>\n",
       "      <td>1741593524</td>\n",
       "      <td>5</td>\n",
       "      <td>1.0</td>\n",
       "      <td>1.0</td>\n",
       "      <td>2</td>\n",
       "      <td>0</td>\n",
       "      <td>2</td>\n",
       "      <td>2023-02-01</td>\n",
       "      <td>I use this with the Nudestix “Citrus Clean Bal...</td>\n",
       "      <td>Taught me how to double cleanse!</td>\n",
       "      <td>NaN</td>\n",
       "      <td>brown</td>\n",
       "      <td>dry</td>\n",
       "      <td>black</td>\n",
       "      <td>P504322</td>\n",
       "      <td>Gentle Hydra-Gel Face Cleanser</td>\n",
       "      <td>NUDESTIX</td>\n",
       "      <td>19.0</td>\n",
       "    </tr>\n",
       "    <tr>\n",
       "      <th>1</th>\n",
       "      <td>1</td>\n",
       "      <td>31423088263</td>\n",
       "      <td>1</td>\n",
       "      <td>0.0</td>\n",
       "      <td>NaN</td>\n",
       "      <td>0</td>\n",
       "      <td>0</td>\n",
       "      <td>0</td>\n",
       "      <td>2023-03-21</td>\n",
       "      <td>I bought this lip mask after reading the revie...</td>\n",
       "      <td>Disappointed</td>\n",
       "      <td>NaN</td>\n",
       "      <td>NaN</td>\n",
       "      <td>NaN</td>\n",
       "      <td>NaN</td>\n",
       "      <td>P420652</td>\n",
       "      <td>Lip Sleeping Mask Intense Hydration with Vitam...</td>\n",
       "      <td>LANEIGE</td>\n",
       "      <td>24.0</td>\n",
       "    </tr>\n",
       "    <tr>\n",
       "      <th>2</th>\n",
       "      <td>2</td>\n",
       "      <td>5061282401</td>\n",
       "      <td>5</td>\n",
       "      <td>1.0</td>\n",
       "      <td>NaN</td>\n",
       "      <td>0</td>\n",
       "      <td>0</td>\n",
       "      <td>0</td>\n",
       "      <td>2023-03-21</td>\n",
       "      <td>My review title says it all! I get so excited ...</td>\n",
       "      <td>New Favorite Routine</td>\n",
       "      <td>light</td>\n",
       "      <td>brown</td>\n",
       "      <td>dry</td>\n",
       "      <td>blonde</td>\n",
       "      <td>P420652</td>\n",
       "      <td>Lip Sleeping Mask Intense Hydration with Vitam...</td>\n",
       "      <td>LANEIGE</td>\n",
       "      <td>24.0</td>\n",
       "    </tr>\n",
       "    <tr>\n",
       "      <th>3</th>\n",
       "      <td>3</td>\n",
       "      <td>6083038851</td>\n",
       "      <td>5</td>\n",
       "      <td>1.0</td>\n",
       "      <td>NaN</td>\n",
       "      <td>0</td>\n",
       "      <td>0</td>\n",
       "      <td>0</td>\n",
       "      <td>2023-03-20</td>\n",
       "      <td>I’ve always loved this formula for a long time...</td>\n",
       "      <td>Can't go wrong with any of them</td>\n",
       "      <td>NaN</td>\n",
       "      <td>brown</td>\n",
       "      <td>combination</td>\n",
       "      <td>black</td>\n",
       "      <td>P420652</td>\n",
       "      <td>Lip Sleeping Mask Intense Hydration with Vitam...</td>\n",
       "      <td>LANEIGE</td>\n",
       "      <td>24.0</td>\n",
       "    </tr>\n",
       "    <tr>\n",
       "      <th>4</th>\n",
       "      <td>4</td>\n",
       "      <td>47056667835</td>\n",
       "      <td>5</td>\n",
       "      <td>1.0</td>\n",
       "      <td>NaN</td>\n",
       "      <td>0</td>\n",
       "      <td>0</td>\n",
       "      <td>0</td>\n",
       "      <td>2023-03-20</td>\n",
       "      <td>If you have dry cracked lips, this is a must h...</td>\n",
       "      <td>A must have !!!</td>\n",
       "      <td>light</td>\n",
       "      <td>hazel</td>\n",
       "      <td>combination</td>\n",
       "      <td>NaN</td>\n",
       "      <td>P420652</td>\n",
       "      <td>Lip Sleeping Mask Intense Hydration with Vitam...</td>\n",
       "      <td>LANEIGE</td>\n",
       "      <td>24.0</td>\n",
       "    </tr>\n",
       "  </tbody>\n",
       "</table>\n",
       "</div>"
      ],
      "text/plain": [
       "   Unnamed: 0    author_id  rating  is_recommended  helpfulness  \\\n",
       "0           0   1741593524       5             1.0          1.0   \n",
       "1           1  31423088263       1             0.0          NaN   \n",
       "2           2   5061282401       5             1.0          NaN   \n",
       "3           3   6083038851       5             1.0          NaN   \n",
       "4           4  47056667835       5             1.0          NaN   \n",
       "\n",
       "   total_feedback_count  total_neg_feedback_count  total_pos_feedback_count  \\\n",
       "0                     2                         0                         2   \n",
       "1                     0                         0                         0   \n",
       "2                     0                         0                         0   \n",
       "3                     0                         0                         0   \n",
       "4                     0                         0                         0   \n",
       "\n",
       "  submission_time                                        review_text  \\\n",
       "0      2023-02-01  I use this with the Nudestix “Citrus Clean Bal...   \n",
       "1      2023-03-21  I bought this lip mask after reading the revie...   \n",
       "2      2023-03-21  My review title says it all! I get so excited ...   \n",
       "3      2023-03-20  I’ve always loved this formula for a long time...   \n",
       "4      2023-03-20  If you have dry cracked lips, this is a must h...   \n",
       "\n",
       "                       review_title skin_tone eye_color    skin_type  \\\n",
       "0  Taught me how to double cleanse!       NaN     brown          dry   \n",
       "1                      Disappointed       NaN       NaN          NaN   \n",
       "2              New Favorite Routine     light     brown          dry   \n",
       "3   Can't go wrong with any of them       NaN     brown  combination   \n",
       "4                   A must have !!!     light     hazel  combination   \n",
       "\n",
       "  hair_color product_id                                       product_name  \\\n",
       "0      black    P504322                     Gentle Hydra-Gel Face Cleanser   \n",
       "1        NaN    P420652  Lip Sleeping Mask Intense Hydration with Vitam...   \n",
       "2     blonde    P420652  Lip Sleeping Mask Intense Hydration with Vitam...   \n",
       "3      black    P420652  Lip Sleeping Mask Intense Hydration with Vitam...   \n",
       "4        NaN    P420652  Lip Sleeping Mask Intense Hydration with Vitam...   \n",
       "\n",
       "  brand_name  price_usd  \n",
       "0   NUDESTIX       19.0  \n",
       "1    LANEIGE       24.0  \n",
       "2    LANEIGE       24.0  \n",
       "3    LANEIGE       24.0  \n",
       "4    LANEIGE       24.0  "
      ]
     },
     "execution_count": 4,
     "metadata": {},
     "output_type": "execute_result"
    }
   ],
   "source": [
    "# Let's look at a sample of this dataset\n",
    "df.head(5)"
   ]
  },
  {
   "cell_type": "code",
   "execution_count": 5,
   "id": "2afccaa8",
   "metadata": {},
   "outputs": [],
   "source": [
    "# Let's drop the columns that are irrelevant to this task\n",
    "irrelevant_features = ['Unnamed: 0',\n",
    "                       'author_id',\n",
    "                       'is_recommended', \n",
    "                       'helpfulness', \n",
    "                       'total_feedback_count',\n",
    "                       'total_neg_feedback_count',\n",
    "                       'total_pos_feedback_count',\n",
    "                       'submission_time',\n",
    "                       'review_text',\n",
    "                       'review_title',\n",
    "                       'price_usd'\n",
    "                      ]\n",
    "df = df.drop(columns=irrelevant_features)"
   ]
  },
  {
   "cell_type": "code",
   "execution_count": 6,
   "id": "528ee5bd",
   "metadata": {},
   "outputs": [
    {
     "data": {
      "text/plain": [
       "rating           int64\n",
       "skin_tone       object\n",
       "eye_color       object\n",
       "skin_type       object\n",
       "hair_color      object\n",
       "product_id      object\n",
       "product_name    object\n",
       "brand_name      object\n",
       "dtype: object"
      ]
     },
     "execution_count": 6,
     "metadata": {},
     "output_type": "execute_result"
    }
   ],
   "source": [
    "# Let's look at the remaining columns and their data types\n",
    "df.dtypes"
   ]
  },
  {
   "cell_type": "code",
   "execution_count": 7,
   "id": "6904e439",
   "metadata": {},
   "outputs": [
    {
     "data": {
      "text/html": [
       "<div>\n",
       "<style scoped>\n",
       "    .dataframe tbody tr th:only-of-type {\n",
       "        vertical-align: middle;\n",
       "    }\n",
       "\n",
       "    .dataframe tbody tr th {\n",
       "        vertical-align: top;\n",
       "    }\n",
       "\n",
       "    .dataframe thead th {\n",
       "        text-align: right;\n",
       "    }\n",
       "</style>\n",
       "<table border=\"1\" class=\"dataframe\">\n",
       "  <thead>\n",
       "    <tr style=\"text-align: right;\">\n",
       "      <th></th>\n",
       "      <th>rating</th>\n",
       "      <th>skin_tone</th>\n",
       "      <th>eye_color</th>\n",
       "      <th>skin_type</th>\n",
       "      <th>hair_color</th>\n",
       "      <th>product_id</th>\n",
       "      <th>product_name</th>\n",
       "      <th>brand_name</th>\n",
       "    </tr>\n",
       "  </thead>\n",
       "  <tbody>\n",
       "    <tr>\n",
       "      <th>0</th>\n",
       "      <td>5</td>\n",
       "      <td>NaN</td>\n",
       "      <td>brown</td>\n",
       "      <td>dry</td>\n",
       "      <td>black</td>\n",
       "      <td>P504322</td>\n",
       "      <td>Gentle Hydra-Gel Face Cleanser</td>\n",
       "      <td>NUDESTIX</td>\n",
       "    </tr>\n",
       "    <tr>\n",
       "      <th>1</th>\n",
       "      <td>1</td>\n",
       "      <td>NaN</td>\n",
       "      <td>NaN</td>\n",
       "      <td>NaN</td>\n",
       "      <td>NaN</td>\n",
       "      <td>P420652</td>\n",
       "      <td>Lip Sleeping Mask Intense Hydration with Vitam...</td>\n",
       "      <td>LANEIGE</td>\n",
       "    </tr>\n",
       "    <tr>\n",
       "      <th>2</th>\n",
       "      <td>5</td>\n",
       "      <td>light</td>\n",
       "      <td>brown</td>\n",
       "      <td>dry</td>\n",
       "      <td>blonde</td>\n",
       "      <td>P420652</td>\n",
       "      <td>Lip Sleeping Mask Intense Hydration with Vitam...</td>\n",
       "      <td>LANEIGE</td>\n",
       "    </tr>\n",
       "    <tr>\n",
       "      <th>3</th>\n",
       "      <td>5</td>\n",
       "      <td>NaN</td>\n",
       "      <td>brown</td>\n",
       "      <td>combination</td>\n",
       "      <td>black</td>\n",
       "      <td>P420652</td>\n",
       "      <td>Lip Sleeping Mask Intense Hydration with Vitam...</td>\n",
       "      <td>LANEIGE</td>\n",
       "    </tr>\n",
       "    <tr>\n",
       "      <th>4</th>\n",
       "      <td>5</td>\n",
       "      <td>light</td>\n",
       "      <td>hazel</td>\n",
       "      <td>combination</td>\n",
       "      <td>NaN</td>\n",
       "      <td>P420652</td>\n",
       "      <td>Lip Sleeping Mask Intense Hydration with Vitam...</td>\n",
       "      <td>LANEIGE</td>\n",
       "    </tr>\n",
       "  </tbody>\n",
       "</table>\n",
       "</div>"
      ],
      "text/plain": [
       "   rating skin_tone eye_color    skin_type hair_color product_id  \\\n",
       "0       5       NaN     brown          dry      black    P504322   \n",
       "1       1       NaN       NaN          NaN        NaN    P420652   \n",
       "2       5     light     brown          dry     blonde    P420652   \n",
       "3       5       NaN     brown  combination      black    P420652   \n",
       "4       5     light     hazel  combination        NaN    P420652   \n",
       "\n",
       "                                        product_name brand_name  \n",
       "0                     Gentle Hydra-Gel Face Cleanser   NUDESTIX  \n",
       "1  Lip Sleeping Mask Intense Hydration with Vitam...    LANEIGE  \n",
       "2  Lip Sleeping Mask Intense Hydration with Vitam...    LANEIGE  \n",
       "3  Lip Sleeping Mask Intense Hydration with Vitam...    LANEIGE  \n",
       "4  Lip Sleeping Mask Intense Hydration with Vitam...    LANEIGE  "
      ]
     },
     "execution_count": 7,
     "metadata": {},
     "output_type": "execute_result"
    }
   ],
   "source": [
    "# Let's look at a sample of the dataset with filtered columns\n",
    "df.head(5)"
   ]
  },
  {
   "cell_type": "code",
   "execution_count": 8,
   "id": "99ce9dcf",
   "metadata": {},
   "outputs": [
    {
     "data": {
      "text/plain": [
       "rating                 int64\n",
       "skin_tone             object\n",
       "eye_color             object\n",
       "skin_type             object\n",
       "hair_color            object\n",
       "product_id            object\n",
       "product_name          object\n",
       "brand_name            object\n",
       "ingredients           object\n",
       "primary_category      object\n",
       "secondary_category    object\n",
       "tertiary_category     object\n",
       "dtype: object"
      ]
     },
     "execution_count": 8,
     "metadata": {},
     "output_type": "execute_result"
    }
   ],
   "source": [
    "# Now let's enrich the dataset with product information\n",
    "products_df = pd.read_csv('./product_info.csv')\n",
    "merged_df = pd.merge(df, products_df[['product_id','ingredients', 'primary_category','secondary_category', 'tertiary_category']], on='product_id')\n",
    "merged_df.dtypes"
   ]
  },
  {
   "cell_type": "markdown",
   "id": "106ee860",
   "metadata": {},
   "source": [
    "## Exploratory Data Analysis"
   ]
  },
  {
   "cell_type": "code",
   "execution_count": 9,
   "id": "9568dbbf",
   "metadata": {},
   "outputs": [
    {
     "data": {
      "text/html": [
       "<div>\n",
       "<style scoped>\n",
       "    .dataframe tbody tr th:only-of-type {\n",
       "        vertical-align: middle;\n",
       "    }\n",
       "\n",
       "    .dataframe tbody tr th {\n",
       "        vertical-align: top;\n",
       "    }\n",
       "\n",
       "    .dataframe thead th {\n",
       "        text-align: right;\n",
       "    }\n",
       "</style>\n",
       "<table border=\"1\" class=\"dataframe\">\n",
       "  <thead>\n",
       "    <tr style=\"text-align: right;\">\n",
       "      <th></th>\n",
       "      <th>rating</th>\n",
       "      <th>skin_tone</th>\n",
       "      <th>eye_color</th>\n",
       "      <th>skin_type</th>\n",
       "      <th>hair_color</th>\n",
       "      <th>product_id</th>\n",
       "      <th>product_name</th>\n",
       "      <th>brand_name</th>\n",
       "      <th>ingredients</th>\n",
       "      <th>primary_category</th>\n",
       "      <th>secondary_category</th>\n",
       "      <th>tertiary_category</th>\n",
       "    </tr>\n",
       "  </thead>\n",
       "  <tbody>\n",
       "    <tr>\n",
       "      <th>0</th>\n",
       "      <td>5</td>\n",
       "      <td>NaN</td>\n",
       "      <td>brown</td>\n",
       "      <td>dry</td>\n",
       "      <td>black</td>\n",
       "      <td>P504322</td>\n",
       "      <td>Gentle Hydra-Gel Face Cleanser</td>\n",
       "      <td>NUDESTIX</td>\n",
       "      <td>['Water (Aqua), Dipropylene Glycol, Peg-6 Capr...</td>\n",
       "      <td>Skincare</td>\n",
       "      <td>Cleansers</td>\n",
       "      <td>NaN</td>\n",
       "    </tr>\n",
       "    <tr>\n",
       "      <th>1</th>\n",
       "      <td>1</td>\n",
       "      <td>NaN</td>\n",
       "      <td>NaN</td>\n",
       "      <td>NaN</td>\n",
       "      <td>NaN</td>\n",
       "      <td>P420652</td>\n",
       "      <td>Lip Sleeping Mask Intense Hydration with Vitam...</td>\n",
       "      <td>LANEIGE</td>\n",
       "      <td>['Diisostearyl Malate, Hydrogenated Polyisobut...</td>\n",
       "      <td>Skincare</td>\n",
       "      <td>Lip Balms &amp; Treatments</td>\n",
       "      <td>NaN</td>\n",
       "    </tr>\n",
       "    <tr>\n",
       "      <th>2</th>\n",
       "      <td>5</td>\n",
       "      <td>light</td>\n",
       "      <td>brown</td>\n",
       "      <td>dry</td>\n",
       "      <td>blonde</td>\n",
       "      <td>P420652</td>\n",
       "      <td>Lip Sleeping Mask Intense Hydration with Vitam...</td>\n",
       "      <td>LANEIGE</td>\n",
       "      <td>['Diisostearyl Malate, Hydrogenated Polyisobut...</td>\n",
       "      <td>Skincare</td>\n",
       "      <td>Lip Balms &amp; Treatments</td>\n",
       "      <td>NaN</td>\n",
       "    </tr>\n",
       "    <tr>\n",
       "      <th>3</th>\n",
       "      <td>5</td>\n",
       "      <td>NaN</td>\n",
       "      <td>brown</td>\n",
       "      <td>combination</td>\n",
       "      <td>black</td>\n",
       "      <td>P420652</td>\n",
       "      <td>Lip Sleeping Mask Intense Hydration with Vitam...</td>\n",
       "      <td>LANEIGE</td>\n",
       "      <td>['Diisostearyl Malate, Hydrogenated Polyisobut...</td>\n",
       "      <td>Skincare</td>\n",
       "      <td>Lip Balms &amp; Treatments</td>\n",
       "      <td>NaN</td>\n",
       "    </tr>\n",
       "    <tr>\n",
       "      <th>4</th>\n",
       "      <td>5</td>\n",
       "      <td>light</td>\n",
       "      <td>hazel</td>\n",
       "      <td>combination</td>\n",
       "      <td>NaN</td>\n",
       "      <td>P420652</td>\n",
       "      <td>Lip Sleeping Mask Intense Hydration with Vitam...</td>\n",
       "      <td>LANEIGE</td>\n",
       "      <td>['Diisostearyl Malate, Hydrogenated Polyisobut...</td>\n",
       "      <td>Skincare</td>\n",
       "      <td>Lip Balms &amp; Treatments</td>\n",
       "      <td>NaN</td>\n",
       "    </tr>\n",
       "  </tbody>\n",
       "</table>\n",
       "</div>"
      ],
      "text/plain": [
       "   rating skin_tone eye_color    skin_type hair_color product_id  \\\n",
       "0       5       NaN     brown          dry      black    P504322   \n",
       "1       1       NaN       NaN          NaN        NaN    P420652   \n",
       "2       5     light     brown          dry     blonde    P420652   \n",
       "3       5       NaN     brown  combination      black    P420652   \n",
       "4       5     light     hazel  combination        NaN    P420652   \n",
       "\n",
       "                                        product_name brand_name  \\\n",
       "0                     Gentle Hydra-Gel Face Cleanser   NUDESTIX   \n",
       "1  Lip Sleeping Mask Intense Hydration with Vitam...    LANEIGE   \n",
       "2  Lip Sleeping Mask Intense Hydration with Vitam...    LANEIGE   \n",
       "3  Lip Sleeping Mask Intense Hydration with Vitam...    LANEIGE   \n",
       "4  Lip Sleeping Mask Intense Hydration with Vitam...    LANEIGE   \n",
       "\n",
       "                                         ingredients primary_category  \\\n",
       "0  ['Water (Aqua), Dipropylene Glycol, Peg-6 Capr...         Skincare   \n",
       "1  ['Diisostearyl Malate, Hydrogenated Polyisobut...         Skincare   \n",
       "2  ['Diisostearyl Malate, Hydrogenated Polyisobut...         Skincare   \n",
       "3  ['Diisostearyl Malate, Hydrogenated Polyisobut...         Skincare   \n",
       "4  ['Diisostearyl Malate, Hydrogenated Polyisobut...         Skincare   \n",
       "\n",
       "       secondary_category tertiary_category  \n",
       "0               Cleansers               NaN  \n",
       "1  Lip Balms & Treatments               NaN  \n",
       "2  Lip Balms & Treatments               NaN  \n",
       "3  Lip Balms & Treatments               NaN  \n",
       "4  Lip Balms & Treatments               NaN  "
      ]
     },
     "execution_count": 9,
     "metadata": {},
     "output_type": "execute_result"
    }
   ],
   "source": [
    "# Let's just inspect how the data frame looks like\n",
    "merged_df.head(5)"
   ]
  },
  {
   "cell_type": "code",
   "execution_count": 10,
   "id": "f9ef51ea",
   "metadata": {},
   "outputs": [
    {
     "data": {
      "text/plain": [
       "2351"
      ]
     },
     "execution_count": 10,
     "metadata": {},
     "output_type": "execute_result"
    }
   ],
   "source": [
    "# Here we check how many products are reviewed\n",
    "products = merged_df['product_id'].unique()\n",
    "len(products)"
   ]
  },
  {
   "cell_type": "markdown",
   "id": "12ababfc",
   "metadata": {},
   "source": [
    "### Numerical Variables"
   ]
  },
  {
   "cell_type": "code",
   "execution_count": 11,
   "id": "1223a902",
   "metadata": {},
   "outputs": [
    {
     "data": {
      "text/plain": [
       "4.299158177320952"
      ]
     },
     "execution_count": 11,
     "metadata": {},
     "output_type": "execute_result"
    }
   ],
   "source": [
    "# Let's check the average rating given by reviews\n",
    "ratings = merged_df['rating']\n",
    "ratings.mean()"
   ]
  },
  {
   "cell_type": "code",
   "execution_count": 12,
   "id": "91abdf00",
   "metadata": {},
   "outputs": [
    {
     "data": {
      "text/plain": [
       "1.1494435956270102"
      ]
     },
     "execution_count": 12,
     "metadata": {},
     "output_type": "execute_result"
    }
   ],
   "source": [
    "# Let's check the standard deviation \n",
    "ratings.std()"
   ]
  },
  {
   "cell_type": "code",
   "execution_count": 13,
   "id": "7c0bec50",
   "metadata": {},
   "outputs": [
    {
     "data": {
      "text/plain": [
       "0    5\n",
       "Name: rating, dtype: int64"
      ]
     },
     "execution_count": 13,
     "metadata": {},
     "output_type": "execute_result"
    }
   ],
   "source": [
    "# Let's see the mode rating\n",
    "ratings.mode()"
   ]
  },
  {
   "cell_type": "code",
   "execution_count": 14,
   "id": "3dacb732",
   "metadata": {},
   "outputs": [
    {
     "data": {
      "text/plain": [
       "5.0"
      ]
     },
     "execution_count": 14,
     "metadata": {},
     "output_type": "execute_result"
    }
   ],
   "source": [
    "# Let's check the median rating\n",
    "ratings.median()"
   ]
  },
  {
   "cell_type": "code",
   "execution_count": 15,
   "id": "6209b545",
   "metadata": {},
   "outputs": [
    {
     "data": {
      "text/plain": [
       "count    1.094411e+06\n",
       "mean     4.299158e+00\n",
       "std      1.149444e+00\n",
       "min      1.000000e+00\n",
       "25%      4.000000e+00\n",
       "50%      5.000000e+00\n",
       "75%      5.000000e+00\n",
       "max      5.000000e+00\n",
       "Name: rating, dtype: float64"
      ]
     },
     "execution_count": 15,
     "metadata": {},
     "output_type": "execute_result"
    }
   ],
   "source": [
    "# Here are some other descriptive statistics\n",
    "ratings.describe()"
   ]
  },
  {
   "cell_type": "code",
   "execution_count": 16,
   "id": "9b0cbe8f",
   "metadata": {},
   "outputs": [
    {
     "name": "stderr",
     "output_type": "stream",
     "text": [
      "C:\\Users\\lsikk\\anaconda3\\lib\\site-packages\\scipy\\__init__.py:155: UserWarning: A NumPy version >=1.18.5 and <1.25.0 is required for this version of SciPy (detected version 1.26.4\n",
      "  warnings.warn(f\"A NumPy version >={np_minversion} and <{np_maxversion}\"\n"
     ]
    },
    {
     "data": {
      "image/png": "[encoded data removed]",
      "text/plain": [
       "<Figure size 640x480 with 1 Axes>"
      ]
     },
     "metadata": {},
     "output_type": "display_data"
    }
   ],
   "source": [
    "# Here we visualize the rating distribution \n",
    "\n",
    "import matplotlib.pyplot as plt\n",
    "import seaborn as sns\n",
    "\n",
    "sns.set_theme(style='white')\n",
    "ax = plt.gca()\n",
    "ax.spines['top'].set_visible(False)\n",
    "ax.spines['right'].set_visible(False)\n",
    "sns.countplot(data=merged_df, x='rating', color='purple')\n",
    "plt.show()"
   ]
  },
  {
   "cell_type": "code",
   "execution_count": 17,
   "id": "56fd31d2",
   "metadata": {},
   "outputs": [
    {
     "data": {
      "image/png": "[encoded data removed]",
      "text/plain": [
       "<Figure size 640x480 with 1 Axes>"
      ]
     },
     "metadata": {},
     "output_type": "display_data"
    }
   ],
   "source": [
    "# Maybe we can better visualize the ratings through a CDF\n",
    "\n",
    "sns.ecdfplot(data=merged_df, x= 'rating', color='purple')\n",
    "plt.show()"
   ]
  },
  {
   "cell_type": "code",
   "execution_count": 19,
   "id": "6268302e",
   "metadata": {},
   "outputs": [
    {
     "data": {
      "image/png": "[encoded data removed]",
      "text/plain": [
       "<Figure size 640x480 with 1 Axes>"
      ]
     },
     "metadata": {},
     "output_type": "display_data"
    }
   ],
   "source": [
    "# Let's try normalizing this distribution using Z-scores\n",
    "rating_counts = merged_df['rating'].value_counts()\n",
    "rating_counts_zscore = (rating_counts - rating_counts.mean()) / rating_counts.std() # z = (x - mu) / sigma\n",
    "\n",
    "sns.barplot(x=rating_counts_zscore.index, y=rating_counts_zscore.values, color='purple')\n",
    "\n",
    "plt.xlabel('Rating')\n",
    "plt.ylabel('Z-Score')\n",
    "\n",
    "# Here I remove the top and right borders so that this figure follows the correct Data-Ink ratio\n",
    "ax = plt.gca()\n",
    "ax.spines['top'].set_visible(False)\n",
    "ax.spines['right'].set_visible(False)\n",
    "\n",
    "plt.show()"
   ]
  },
  {
   "cell_type": "code",
   "execution_count": 20,
   "id": "64f086fa",
   "metadata": {},
   "outputs": [
    {
     "data": {
      "text/plain": [
       "KstestResult(statistic=0.3282786390604352, pvalue=0.5524957379157138)"
      ]
     },
     "execution_count": 20,
     "metadata": {},
     "output_type": "execute_result"
    }
   ],
   "source": [
    "# Here we will perform a KS test againts a normal distribution to see if the Z-score normalization worked\n",
    "from scipy.stats import kstest\n",
    "\n",
    "kstest(rating_counts_zscore, 'norm')"
   ]
  },
  {
   "cell_type": "markdown",
   "id": "ccd6e4b1",
   "metadata": {},
   "source": [
    "### Categorical Variables"
   ]
  },
  {
   "cell_type": "code",
   "execution_count": 21,
   "id": "9594392d",
   "metadata": {},
   "outputs": [
    {
     "data": {
      "text/plain": [
       "light          0.288371\n",
       "fair           0.225176\n",
       "lightMedium    0.212736\n",
       "medium         0.076294\n",
       "mediumTan      0.067602\n",
       "fairLight      0.060861\n",
       "tan            0.036453\n",
       "deep           0.022299\n",
       "rich           0.005946\n",
       "olive          0.001873\n",
       "porcelain      0.001745\n",
       "dark           0.000565\n",
       "notSureST      0.000076\n",
       "ebony          0.000003\n",
       "Name: skin_tone, dtype: float64"
      ]
     },
     "execution_count": 21,
     "metadata": {},
     "output_type": "execute_result"
    }
   ],
   "source": [
    "# Let's summarize the descriptive statistics for the physical features of users\n",
    "merged_df['skin_tone'].value_counts(normalize=True)"
   ]
  },
  {
   "cell_type": "code",
   "execution_count": 22,
   "id": "fdc08e16",
   "metadata": {},
   "outputs": [
    {
     "data": {
      "text/plain": [
       "brown    0.532538\n",
       "blue     0.194423\n",
       "hazel    0.133585\n",
       "green    0.133260\n",
       "Grey     0.005492\n",
       "gray     0.000702\n",
       "Name: eye_color, dtype: float64"
      ]
     },
     "execution_count": 22,
     "metadata": {},
     "output_type": "execute_result"
    }
   ],
   "source": [
    "merged_df['eye_color'].value_counts(normalize=True)"
   ]
  },
  {
   "cell_type": "code",
   "execution_count": 23,
   "id": "5e6a238d",
   "metadata": {},
   "outputs": [
    {
     "data": {
      "text/plain": [
       "brown    0.532538\n",
       "blue     0.194423\n",
       "hazel    0.133585\n",
       "green    0.133260\n",
       "gray     0.006194\n",
       "Name: eye_color, dtype: float64"
      ]
     },
     "execution_count": 23,
     "metadata": {},
     "output_type": "execute_result"
    }
   ],
   "source": [
    "merged_df['eye_color'] = merged_df['eye_color'].replace('Grey', 'gray')\n",
    "merged_df['eye_color'].value_counts(normalize=True)"
   ]
  },
  {
   "cell_type": "code",
   "execution_count": 24,
   "id": "7ca2e369",
   "metadata": {},
   "outputs": [
    {
     "data": {
      "text/plain": [
       "combination    0.554012\n",
       "dry            0.189181\n",
       "normal         0.134211\n",
       "oily           0.122596\n",
       "Name: skin_type, dtype: float64"
      ]
     },
     "execution_count": 24,
     "metadata": {},
     "output_type": "execute_result"
    }
   ],
   "source": [
    "df['skin_type'].value_counts(normalize=True)"
   ]
  },
  {
   "cell_type": "code",
   "execution_count": 25,
   "id": "90cc780b",
   "metadata": {},
   "outputs": [
    {
     "data": {
      "text/plain": [
       "brown       0.464591\n",
       "blonde      0.234261\n",
       "black       0.217145\n",
       "auburn      0.035897\n",
       "red         0.029709\n",
       "brunette    0.012149\n",
       "gray        0.006248\n",
       "Name: hair_color, dtype: float64"
      ]
     },
     "execution_count": 25,
     "metadata": {},
     "output_type": "execute_result"
    }
   ],
   "source": [
    "df['hair_color'].value_counts(normalize=True)"
   ]
  },
  {
   "cell_type": "code",
   "execution_count": 26,
   "id": "3923733f",
   "metadata": {},
   "outputs": [
    {
     "data": {
      "image/png": "[encoded data removed]",
      "text/plain": [
       "<Figure size 1200x1000 with 4 Axes>"
      ]
     },
     "metadata": {},
     "output_type": "display_data"
    }
   ],
   "source": [
    "# Let's visualize all these together\n",
    "\n",
    "# Here I specify that there will be 4 columns \n",
    "fig, axes = plt.subplots(nrows=2, ncols=2, figsize=(12, 10))\n",
    "\n",
    "axes = axes.flatten()\n",
    "\n",
    "for ax, column in zip(axes, ['skin_tone', 'eye_color', 'skin_type', 'hair_color']):\n",
    "    sns.countplot(data=merged_df, x=column, palette='husl', ax=ax, hue=column, dodge=False) # color-coded frequency plot\n",
    "    ax.set_xticklabels([]) \n",
    "    ax.set_xlabel('')\n",
    "    ax.set_ylabel('Count')\n",
    "    title = ' '.join(column.split('_')).title() # preprocessing the title so it appears capitalized and spaced\n",
    "    ax.set_title(f'{title} Distribution')\n",
    "    sns.move_legend(ax, \"upper left\", bbox_to_anchor=(1, 1)) # moving the legend away from the graph to avoid clutter\n",
    "    ax.spines['top'].set_visible(False)\n",
    "    ax.spines['right'].set_visible(False)\n",
    "\n",
    "plt.tight_layout()\n",
    "plt.show()"
   ]
  },
  {
   "cell_type": "code",
   "execution_count": 27,
   "id": "9ed0bdb0",
   "metadata": {},
   "outputs": [
    {
     "data": {
      "text/html": [
       "<div>\n",
       "<style scoped>\n",
       "    .dataframe tbody tr th:only-of-type {\n",
       "        vertical-align: middle;\n",
       "    }\n",
       "\n",
       "    .dataframe tbody tr th {\n",
       "        vertical-align: top;\n",
       "    }\n",
       "\n",
       "    .dataframe thead th {\n",
       "        text-align: right;\n",
       "    }\n",
       "</style>\n",
       "<table border=\"1\" class=\"dataframe\">\n",
       "  <thead>\n",
       "    <tr style=\"text-align: right;\">\n",
       "      <th></th>\n",
       "      <th>primary_category</th>\n",
       "      <th>secondary_category</th>\n",
       "      <th>tertiary_category</th>\n",
       "    </tr>\n",
       "  </thead>\n",
       "  <tbody>\n",
       "    <tr>\n",
       "      <th>count</th>\n",
       "      <td>1094411</td>\n",
       "      <td>1094411</td>\n",
       "      <td>933155</td>\n",
       "    </tr>\n",
       "    <tr>\n",
       "      <th>unique</th>\n",
       "      <td>1</td>\n",
       "      <td>13</td>\n",
       "      <td>30</td>\n",
       "    </tr>\n",
       "    <tr>\n",
       "      <th>top</th>\n",
       "      <td>Skincare</td>\n",
       "      <td>Moisturizers</td>\n",
       "      <td>Moisturizers</td>\n",
       "    </tr>\n",
       "    <tr>\n",
       "      <th>freq</th>\n",
       "      <td>1094411</td>\n",
       "      <td>297399</td>\n",
       "      <td>206124</td>\n",
       "    </tr>\n",
       "  </tbody>\n",
       "</table>\n",
       "</div>"
      ],
      "text/plain": [
       "       primary_category secondary_category tertiary_category\n",
       "count           1094411            1094411            933155\n",
       "unique                1                 13                30\n",
       "top            Skincare       Moisturizers      Moisturizers\n",
       "freq            1094411             297399            206124"
      ]
     },
     "execution_count": 27,
     "metadata": {},
     "output_type": "execute_result"
    }
   ],
   "source": [
    "# Now let's look at the different product categories\n",
    "product_categories = merged_df[['primary_category', 'secondary_category', 'tertiary_category']]\n",
    "product_categories.describe()"
   ]
  },
  {
   "cell_type": "code",
   "execution_count": 28,
   "id": "ba54989e",
   "metadata": {},
   "outputs": [
    {
     "data": {
      "text/html": [
       "<div>\n",
       "<style scoped>\n",
       "    .dataframe tbody tr th:only-of-type {\n",
       "        vertical-align: middle;\n",
       "    }\n",
       "\n",
       "    .dataframe tbody tr th {\n",
       "        vertical-align: top;\n",
       "    }\n",
       "\n",
       "    .dataframe thead th {\n",
       "        text-align: right;\n",
       "    }\n",
       "</style>\n",
       "<table border=\"1\" class=\"dataframe\">\n",
       "  <thead>\n",
       "    <tr style=\"text-align: right;\">\n",
       "      <th></th>\n",
       "      <th>secondary_category</th>\n",
       "      <th>tertiary_category</th>\n",
       "    </tr>\n",
       "  </thead>\n",
       "  <tbody>\n",
       "    <tr>\n",
       "      <th>count</th>\n",
       "      <td>1094411</td>\n",
       "      <td>933155</td>\n",
       "    </tr>\n",
       "    <tr>\n",
       "      <th>unique</th>\n",
       "      <td>13</td>\n",
       "      <td>30</td>\n",
       "    </tr>\n",
       "    <tr>\n",
       "      <th>top</th>\n",
       "      <td>Moisturizers</td>\n",
       "      <td>Moisturizers</td>\n",
       "    </tr>\n",
       "    <tr>\n",
       "      <th>freq</th>\n",
       "      <td>297399</td>\n",
       "      <td>206124</td>\n",
       "    </tr>\n",
       "  </tbody>\n",
       "</table>\n",
       "</div>"
      ],
      "text/plain": [
       "       secondary_category tertiary_category\n",
       "count             1094411            933155\n",
       "unique                 13                30\n",
       "top          Moisturizers      Moisturizers\n",
       "freq               297399            206124"
      ]
     },
     "execution_count": 28,
     "metadata": {},
     "output_type": "execute_result"
    }
   ],
   "source": [
    "# Since the primary catgeory is always skincare, we can remove it and focus on the other ones\n",
    "product_categories = product_categories.drop(columns=['primary_category'])\n",
    "product_categories.describe()"
   ]
  },
  {
   "cell_type": "code",
   "execution_count": 29,
   "id": "1d42ae20",
   "metadata": {},
   "outputs": [
    {
     "data": {
      "text/plain": [
       "Moisturizers              297399\n",
       "Treatments                222042\n",
       "Cleansers                 200604\n",
       "Mini Size                  85498\n",
       "Eye Care                   74999\n",
       "Masks                      70531\n",
       "Lip Balms & Treatments     61688\n",
       "Sunscreen                  41139\n",
       "Value & Gift Sets          12099\n",
       "Self Tanners               11942\n",
       "Wellness                   10530\n",
       "High Tech Tools             5925\n",
       "Shop by Concern               15\n",
       "Name: secondary_category, dtype: int64"
      ]
     },
     "execution_count": 29,
     "metadata": {},
     "output_type": "execute_result"
    }
   ],
   "source": [
    "product_categories['secondary_category'].value_counts()"
   ]
  },
  {
   "cell_type": "code",
   "execution_count": 30,
   "id": "fe9b34fe",
   "metadata": {},
   "outputs": [
    {
     "data": {
      "text/plain": [
       "Moisturizers                 206124\n",
       "Face Serums                  174600\n",
       "Face Wash & Cleansers        121722\n",
       "Eye Creams & Treatments       70440\n",
       "Face Masks                    66835\n",
       "Face Oils                     41858\n",
       "Face Sunscreen                39088\n",
       "Toners                        35860\n",
       "Mists & Essences              31658\n",
       "Facial Peels                  27757\n",
       "Exfoliators                   26846\n",
       "Blemish & Acne Treatments     19685\n",
       "Makeup Removers               11245\n",
       "Night Creams                   8903\n",
       "BB & CC Creams                 7884\n",
       "Beauty Supplements             7725\n",
       "For Face                       5753\n",
       "For Body                       5136\n",
       "Face Wipes                     4707\n",
       "Eye Masks                      4559\n",
       "Sheet Masks                    3696\n",
       "Anti-Aging                     3126\n",
       "Facial Rollers                 1712\n",
       "Body Sunscreen                 1302\n",
       "Facial Cleansing Brushes       1223\n",
       "Holistic Wellness              1093\n",
       "Teeth Whitening                 973\n",
       "Decollete & Neck Creams         960\n",
       "Hair Removal                    581\n",
       "Blotting Papers                 104\n",
       "Name: tertiary_category, dtype: int64"
      ]
     },
     "execution_count": 30,
     "metadata": {},
     "output_type": "execute_result"
    }
   ],
   "source": [
    "product_categories['tertiary_category'].value_counts()"
   ]
  },
  {
   "cell_type": "code",
   "execution_count": 31,
   "id": "a52cbd61",
   "metadata": {},
   "outputs": [],
   "source": [
    "# Tertiary categories overlaps with secondary categories and offer more detailed classifications"
   ]
  },
  {
   "cell_type": "markdown",
   "id": "4fea3f37",
   "metadata": {},
   "source": [
    "## Data Preprocessing"
   ]
  },
  {
   "cell_type": "markdown",
   "id": "d736eaa6",
   "metadata": {},
   "source": [
    "### Imputation"
   ]
  },
  {
   "cell_type": "code",
   "execution_count": 33,
   "id": "3428d0c3",
   "metadata": {},
   "outputs": [
    {
     "data": {
      "text/plain": [
       "rating                    0\n",
       "skin_tone            170539\n",
       "eye_color            209628\n",
       "skin_type            111557\n",
       "hair_color           226768\n",
       "ingredients           22025\n",
       "tertiary_category    161256\n",
       "dtype: int64"
      ]
     },
     "execution_count": 33,
     "metadata": {},
     "output_type": "execute_result"
    }
   ],
   "source": [
    "# Let's check if there are missing values in the columns of interest\n",
    "final_df = merged_df.drop(columns=['product_id','primary_category','secondary_category', 'product_name', 'brand_name'])\n",
    "final_df.isna().sum()"
   ]
  },
  {
   "cell_type": "code",
   "execution_count": 34,
   "id": "a989b5c7",
   "metadata": {},
   "outputs": [
    {
     "data": {
      "text/html": [
       "<div>\n",
       "<style scoped>\n",
       "    .dataframe tbody tr th:only-of-type {\n",
       "        vertical-align: middle;\n",
       "    }\n",
       "\n",
       "    .dataframe tbody tr th {\n",
       "        vertical-align: top;\n",
       "    }\n",
       "\n",
       "    .dataframe thead th {\n",
       "        text-align: right;\n",
       "    }\n",
       "</style>\n",
       "<table border=\"1\" class=\"dataframe\">\n",
       "  <thead>\n",
       "    <tr style=\"text-align: right;\">\n",
       "      <th></th>\n",
       "      <th>skin_tone</th>\n",
       "      <th>eye_color</th>\n",
       "      <th>skin_type</th>\n",
       "      <th>hair_color</th>\n",
       "    </tr>\n",
       "  </thead>\n",
       "  <tbody>\n",
       "    <tr>\n",
       "      <th>count</th>\n",
       "      <td>923872</td>\n",
       "      <td>884783</td>\n",
       "      <td>982854</td>\n",
       "      <td>867643</td>\n",
       "    </tr>\n",
       "    <tr>\n",
       "      <th>unique</th>\n",
       "      <td>14</td>\n",
       "      <td>5</td>\n",
       "      <td>4</td>\n",
       "      <td>7</td>\n",
       "    </tr>\n",
       "    <tr>\n",
       "      <th>top</th>\n",
       "      <td>light</td>\n",
       "      <td>brown</td>\n",
       "      <td>combination</td>\n",
       "      <td>brown</td>\n",
       "    </tr>\n",
       "    <tr>\n",
       "      <th>freq</th>\n",
       "      <td>266418</td>\n",
       "      <td>471181</td>\n",
       "      <td>544513</td>\n",
       "      <td>403099</td>\n",
       "    </tr>\n",
       "  </tbody>\n",
       "</table>\n",
       "</div>"
      ],
      "text/plain": [
       "       skin_tone eye_color    skin_type hair_color\n",
       "count     923872    884783       982854     867643\n",
       "unique        14         5            4          7\n",
       "top        light     brown  combination      brown\n",
       "freq      266418    471181       544513     403099"
      ]
     },
     "execution_count": 34,
     "metadata": {},
     "output_type": "execute_result"
    }
   ],
   "source": [
    "# From the above values, we can see that all columns have at least 80% of the data present, so we do not have to drop them\n",
    "\n",
    "# Let's start with the physical features\n",
    "final_df.iloc[:,1:5].describe(include='object')"
   ]
  },
  {
   "cell_type": "code",
   "execution_count": 36,
   "id": "a91489c4",
   "metadata": {},
   "outputs": [
    {
     "data": {
      "text/plain": [
       "nan_nan_nan_nan                        105827\n",
       "lightMedium_brown_combination_brown     37770\n",
       "light_brown_combination_brown           32197\n",
       "nan_nan_combination_nan                 24679\n",
       "lightMedium_brown_combination_black     23490\n",
       "                                        ...  \n",
       "tan_gray_oily_brunette                      1\n",
       "deep_nan_normal_brunette                    1\n",
       "fair_nan_nan_brunette                       1\n",
       "lightMedium_green_nan_blonde                1\n",
       "olive_brown_normal_red                      1\n",
       "Length: 1920, dtype: int64"
      ]
     },
     "execution_count": 36,
     "metadata": {},
     "output_type": "execute_result"
    }
   ],
   "source": [
    "# Here we want to see what are the most frequent combinations for skin_tone, eye_color, skin_type, hair_color\n",
    "\n",
    "# Here we create a new column with combination of all features\n",
    "features = ['skin_tone', 'eye_color', 'skin_type', 'hair_color']\n",
    "feature_combinations = final_df[features].apply(lambda row: '_'.join(row.values.astype(str)), axis=1)\n",
    "\n",
    "# This will find the frequency of every unique combination\n",
    "feature_combination_counts = feature_combinations.value_counts()\n",
    "feature_combination_counts  "
   ]
  },
  {
   "cell_type": "code",
   "execution_count": 37,
   "id": "3a272220",
   "metadata": {},
   "outputs": [
    {
     "data": {
      "text/plain": [
       "rating               0\n",
       "skin_tone            0\n",
       "eye_color            0\n",
       "skin_type            0\n",
       "hair_color           0\n",
       "ingredients          0\n",
       "tertiary_category    0\n",
       "dtype: int64"
      ]
     },
     "execution_count": 37,
     "metadata": {},
     "output_type": "execute_result"
    }
   ],
   "source": [
    "# The goal is for the imputation strategy to preserve the above findings in the data distribution\n",
    "from sklearn.impute import SimpleImputer\n",
    "\n",
    "# We will use mode as the imputation strategy\n",
    "\n",
    "imputer = SimpleImputer(strategy='most_frequent')\n",
    "df_imputed_mode = final_df.copy()\n",
    "df_imputed_mode[:] = imputer.fit_transform(final_df)\n",
    "df_imputed_mode.isna().sum()"
   ]
  },
  {
   "cell_type": "code",
   "execution_count": 38,
   "id": "3b7a300b",
   "metadata": {},
   "outputs": [
    {
     "data": {
      "text/plain": [
       "light_brown_combination_brown          179155\n",
       "lightMedium_brown_combination_brown     46262\n",
       "fair_brown_combination_brown            26900\n",
       "lightMedium_brown_combination_black     23816\n",
       "light_brown_dry_brown                   23351\n",
       "                                        ...  \n",
       "deep_green_normal_auburn                    1\n",
       "deep_blue_normal_blonde                     1\n",
       "lightMedium_gray_dry_red                    1\n",
       "notSureST_hazel_normal_blonde               1\n",
       "olive_brown_normal_red                      1\n",
       "Length: 1207, dtype: int64"
      ]
     },
     "execution_count": 38,
     "metadata": {},
     "output_type": "execute_result"
    }
   ],
   "source": [
    "# Here we create a new column with combination of all features\n",
    "mode_feature_combinations = df_imputed_mode[features].apply(lambda row: '_'.join(row.values.astype(str)), axis=1)\n",
    "\n",
    "# This will find the frequency of every unique combination\n",
    "mode_feature_combination_counts = mode_feature_combinations.value_counts()\n",
    "mode_feature_combination_counts  "
   ]
  },
  {
   "cell_type": "code",
   "execution_count": 39,
   "id": "a4d5d7dd",
   "metadata": {},
   "outputs": [
    {
     "data": {
      "text/html": [
       "<div>\n",
       "<style scoped>\n",
       "    .dataframe tbody tr th:only-of-type {\n",
       "        vertical-align: middle;\n",
       "    }\n",
       "\n",
       "    .dataframe tbody tr th {\n",
       "        vertical-align: top;\n",
       "    }\n",
       "\n",
       "    .dataframe thead th {\n",
       "        text-align: right;\n",
       "    }\n",
       "</style>\n",
       "<table border=\"1\" class=\"dataframe\">\n",
       "  <thead>\n",
       "    <tr style=\"text-align: right;\">\n",
       "      <th></th>\n",
       "      <th>skin_tone</th>\n",
       "      <th>eye_color</th>\n",
       "      <th>skin_type</th>\n",
       "      <th>hair_color</th>\n",
       "    </tr>\n",
       "  </thead>\n",
       "  <tbody>\n",
       "    <tr>\n",
       "      <th>count</th>\n",
       "      <td>1094411</td>\n",
       "      <td>1094411</td>\n",
       "      <td>1094411</td>\n",
       "      <td>1094411</td>\n",
       "    </tr>\n",
       "    <tr>\n",
       "      <th>unique</th>\n",
       "      <td>14</td>\n",
       "      <td>5</td>\n",
       "      <td>4</td>\n",
       "      <td>7</td>\n",
       "    </tr>\n",
       "    <tr>\n",
       "      <th>top</th>\n",
       "      <td>light</td>\n",
       "      <td>brown</td>\n",
       "      <td>combination</td>\n",
       "      <td>brown</td>\n",
       "    </tr>\n",
       "    <tr>\n",
       "      <th>freq</th>\n",
       "      <td>436957</td>\n",
       "      <td>680809</td>\n",
       "      <td>656070</td>\n",
       "      <td>629867</td>\n",
       "    </tr>\n",
       "  </tbody>\n",
       "</table>\n",
       "</div>"
      ],
      "text/plain": [
       "       skin_tone eye_color    skin_type hair_color\n",
       "count    1094411   1094411      1094411    1094411\n",
       "unique        14         5            4          7\n",
       "top        light     brown  combination      brown\n",
       "freq      436957    680809       656070     629867"
      ]
     },
     "execution_count": 39,
     "metadata": {},
     "output_type": "execute_result"
    }
   ],
   "source": [
    "df_imputed_mode.iloc[:,1:5].describe(include='object')"
   ]
  },
  {
   "cell_type": "markdown",
   "id": "964da686",
   "metadata": {},
   "source": [
    "### Sampling"
   ]
  },
  {
   "cell_type": "code",
   "execution_count": 40,
   "id": "6fba8270",
   "metadata": {},
   "outputs": [
    {
     "data": {
      "text/plain": [
       "10000"
      ]
     },
     "execution_count": 40,
     "metadata": {},
     "output_type": "execute_result"
    }
   ],
   "source": [
    "# The dataset is too large for processing, so I will sample what my computer can handle\n",
    "import random\n",
    "\n",
    "sample_indices = random.sample(range(len(df)), 10000)\n",
    "sample_df = df_imputed_mode.iloc[sample_indices]\n",
    "len(sample_df)"
   ]
  },
  {
   "cell_type": "code",
   "execution_count": 41,
   "id": "24a0b681",
   "metadata": {},
   "outputs": [],
   "source": [
    "# Now the goal is to compare the descriptive statistics of the sample with the original\n",
    "original_ratings = df_imputed_mode['rating']\n",
    "sample_ratings = sample_df['rating']"
   ]
  },
  {
   "cell_type": "code",
   "execution_count": 44,
   "id": "07b5b3c7",
   "metadata": {},
   "outputs": [
    {
     "data": {
      "text/plain": [
       "Ttest_indResult(statistic=-1.0532500405730104e-16, pvalue=1.0)"
      ]
     },
     "execution_count": 44,
     "metadata": {},
     "output_type": "execute_result"
    }
   ],
   "source": [
    "# We want to see if the difference in mean rating is statistically significant\n",
    "from scipy.stats import ttest_ind\n",
    "\n",
    "# Need to Z-Score normalize the original ratings and the sample ratings before the t-test since it assumes normality\n",
    "original_rating_counts = original_ratings.value_counts()\n",
    "original_rating_counts_zscore = (original_rating_counts - original_rating_counts.mean()) / original_rating_counts.std()\n",
    "\n",
    "sample_rating_counts = sample_ratings.value_counts()\n",
    "sample_rating_counts_zscore = (sample_rating_counts - sample_rating_counts.mean()) / sample_rating_counts.std()\n",
    "\n",
    "\n",
    "ttest_ind(original_rating_counts_zscore, sample_rating_counts_zscore)"
   ]
  },
  {
   "cell_type": "markdown",
   "id": "ab678fa8",
   "metadata": {},
   "source": [
    "## Modelling and Analysis"
   ]
  },
  {
   "cell_type": "code",
   "execution_count": 45,
   "id": "0f0fad90",
   "metadata": {},
   "outputs": [
    {
     "data": {
      "text/html": [
       "<div>\n",
       "<style scoped>\n",
       "    .dataframe tbody tr th:only-of-type {\n",
       "        vertical-align: middle;\n",
       "    }\n",
       "\n",
       "    .dataframe tbody tr th {\n",
       "        vertical-align: top;\n",
       "    }\n",
       "\n",
       "    .dataframe thead th {\n",
       "        text-align: right;\n",
       "    }\n",
       "</style>\n",
       "<table border=\"1\" class=\"dataframe\">\n",
       "  <thead>\n",
       "    <tr style=\"text-align: right;\">\n",
       "      <th></th>\n",
       "      <th>rating</th>\n",
       "      <th>skin_tone</th>\n",
       "      <th>eye_color</th>\n",
       "      <th>skin_type</th>\n",
       "      <th>hair_color</th>\n",
       "      <th>ingredients</th>\n",
       "      <th>tertiary_category</th>\n",
       "    </tr>\n",
       "  </thead>\n",
       "  <tbody>\n",
       "    <tr>\n",
       "      <th>872664</th>\n",
       "      <td>5</td>\n",
       "      <td>fair</td>\n",
       "      <td>blue</td>\n",
       "      <td>combination</td>\n",
       "      <td>blonde</td>\n",
       "      <td>['Water/Aqua/Eau, Dicaprylyl Carbonate, Butyro...</td>\n",
       "      <td>Eye Creams &amp; Treatments</td>\n",
       "    </tr>\n",
       "    <tr>\n",
       "      <th>389579</th>\n",
       "      <td>4</td>\n",
       "      <td>fair</td>\n",
       "      <td>brown</td>\n",
       "      <td>combination</td>\n",
       "      <td>brown</td>\n",
       "      <td>['Water, Caprylic/Capric Triglyceride, Cetyl A...</td>\n",
       "      <td>Face Serums</td>\n",
       "    </tr>\n",
       "    <tr>\n",
       "      <th>87062</th>\n",
       "      <td>5</td>\n",
       "      <td>medium</td>\n",
       "      <td>brown</td>\n",
       "      <td>oily</td>\n",
       "      <td>brown</td>\n",
       "      <td>['Aqua (Water), Niacinamide, Pentylene Glycol,...</td>\n",
       "      <td>Face Serums</td>\n",
       "    </tr>\n",
       "    <tr>\n",
       "      <th>564292</th>\n",
       "      <td>3</td>\n",
       "      <td>light</td>\n",
       "      <td>brown</td>\n",
       "      <td>combination</td>\n",
       "      <td>brown</td>\n",
       "      <td>['Water, Ethylhexyl Palmitate, Ppg-14 Butyl Et...</td>\n",
       "      <td>Moisturizers</td>\n",
       "    </tr>\n",
       "    <tr>\n",
       "      <th>1071922</th>\n",
       "      <td>5</td>\n",
       "      <td>light</td>\n",
       "      <td>blue</td>\n",
       "      <td>normal</td>\n",
       "      <td>brown</td>\n",
       "      <td>['Aloe Barbadensis (Aloe Vera) Leaf Juice, Gly...</td>\n",
       "      <td>Mists &amp; Essences</td>\n",
       "    </tr>\n",
       "  </tbody>\n",
       "</table>\n",
       "</div>"
      ],
      "text/plain": [
       "         rating skin_tone eye_color    skin_type hair_color  \\\n",
       "872664        5      fair      blue  combination     blonde   \n",
       "389579        4      fair     brown  combination      brown   \n",
       "87062         5    medium     brown         oily      brown   \n",
       "564292        3     light     brown  combination      brown   \n",
       "1071922       5     light      blue       normal      brown   \n",
       "\n",
       "                                               ingredients  \\\n",
       "872664   ['Water/Aqua/Eau, Dicaprylyl Carbonate, Butyro...   \n",
       "389579   ['Water, Caprylic/Capric Triglyceride, Cetyl A...   \n",
       "87062    ['Aqua (Water), Niacinamide, Pentylene Glycol,...   \n",
       "564292   ['Water, Ethylhexyl Palmitate, Ppg-14 Butyl Et...   \n",
       "1071922  ['Aloe Barbadensis (Aloe Vera) Leaf Juice, Gly...   \n",
       "\n",
       "               tertiary_category  \n",
       "872664   Eye Creams & Treatments  \n",
       "389579               Face Serums  \n",
       "87062                Face Serums  \n",
       "564292              Moisturizers  \n",
       "1071922         Mists & Essences  "
      ]
     },
     "execution_count": 45,
     "metadata": {},
     "output_type": "execute_result"
    }
   ],
   "source": [
    "sample_df.head(5)"
   ]
  },
  {
   "cell_type": "code",
   "execution_count": 47,
   "id": "28f23be2",
   "metadata": {},
   "outputs": [],
   "source": [
    "# Here we obtain a one-hot encoding for the categorical variables\n",
    "s_df = pd.get_dummies(sample_df, columns=['skin_tone', 'eye_color', 'skin_type', 'hair_color', 'tertiary_category'])"
   ]
  },
  {
   "cell_type": "code",
   "execution_count": 51,
   "id": "21b5d2f8",
   "metadata": {},
   "outputs": [
    {
     "data": {
      "text/plain": [
       "872664     Water/Aqua/Eau  Dicaprylyl Carbonate  Butyrosp...\n",
       "389579     Water  Caprylic/Capric Triglyceride  Cetyl Alc...\n",
       "87062      Aqua (Water)  Niacinamide  Pentylene Glycol  Z...\n",
       "564292     Water  Ethylhexyl Palmitate  Ppg-14 Butyl Ethe...\n",
       "1071922    Aloe Barbadensis (Aloe Vera) Leaf Juice  Glyce...\n",
       "Name: ingredients, dtype: object"
      ]
     },
     "execution_count": 51,
     "metadata": {},
     "output_type": "execute_result"
    }
   ],
   "source": [
    "# The first step in preprocessing is to convert the comma-separated list into a single spaced string\n",
    "def convert_to_spaced(s):\n",
    "    s = s[2:-2].split(',') # removing brackets and commas\n",
    "    return ' '.join(s)\n",
    "ingredients_spaced_df = sample_df['ingredients'].apply(convert_to_spaced)\n",
    "ingredients_spaced_df.head(5)"
   ]
  },
  {
   "cell_type": "code",
   "execution_count": 55,
   "id": "a835d8ff",
   "metadata": {},
   "outputs": [
    {
     "data": {
      "text/plain": [
       "872664      stearate dulcis gardenia seed citric sodium i...\n",
       "389579      alanine urea citric sodium polysorbate disucc...\n",
       "87062       seed dimethyl xanthan pca pentylene water ind...\n",
       "564292      saccharina extract quaternium lavender sativa...\n",
       "1071922     dulcis sea citric sodium polyglyceryl santalu...\n",
       "Name: ingredients, dtype: object"
      ]
     },
     "execution_count": 55,
     "metadata": {},
     "output_type": "execute_result"
    }
   ],
   "source": [
    "# This function performs text normalization\n",
    "def preprocess(s):\n",
    "    no_punct = re.sub(r'[^\\w\\s]', '', s)\n",
    "    lower = no_punct.lower()\n",
    "    no_slashes = lower.replace('/', '')\n",
    "    without_numbers = re.sub(r'\\d+', '', no_slashes)\n",
    "    \n",
    "    list_of_words = without_numbers.split(' ')\n",
    "    for word in list_of_words:\n",
    "        if('aqua' in word): # water appears in multiple ways and often under multiple names\n",
    "            word = 'water'\n",
    "    no_duplicates = set(list_of_words)\n",
    "    \n",
    "    return ' '.join(no_duplicates)\n",
    "\n",
    "s_df['ingredients'] = ingredients_spaced_df.apply(preprocess)\n",
    "s_df['ingredients'].head(5)"
   ]
  },
  {
   "cell_type": "code",
   "execution_count": 57,
   "id": "fd098b2a",
   "metadata": {},
   "outputs": [
    {
     "data": {
      "text/html": [
       "<div>\n",
       "<style scoped>\n",
       "    .dataframe tbody tr th:only-of-type {\n",
       "        vertical-align: middle;\n",
       "    }\n",
       "\n",
       "    .dataframe tbody tr th {\n",
       "        vertical-align: top;\n",
       "    }\n",
       "\n",
       "    .dataframe thead th {\n",
       "        text-align: right;\n",
       "    }\n",
       "</style>\n",
       "<table border=\"1\" class=\"dataframe\">\n",
       "  <thead>\n",
       "    <tr style=\"text-align: right;\">\n",
       "      <th></th>\n",
       "      <th>rating</th>\n",
       "      <th>skin_tone_dark</th>\n",
       "      <th>skin_tone_deep</th>\n",
       "      <th>skin_tone_fair</th>\n",
       "      <th>skin_tone_fairLight</th>\n",
       "      <th>skin_tone_light</th>\n",
       "      <th>skin_tone_lightMedium</th>\n",
       "      <th>skin_tone_medium</th>\n",
       "      <th>skin_tone_mediumTan</th>\n",
       "      <th>skin_tone_olive</th>\n",
       "      <th>...</th>\n",
       "      <th>zeolite</th>\n",
       "      <th>zerumbet</th>\n",
       "      <th>zerumbone</th>\n",
       "      <th>zeylanicum</th>\n",
       "      <th>zinc</th>\n",
       "      <th>zingerone</th>\n",
       "      <th>zingiber</th>\n",
       "      <th>zizanoides</th>\n",
       "      <th>ziziphus</th>\n",
       "      <th>zizyphus</th>\n",
       "    </tr>\n",
       "  </thead>\n",
       "  <tbody>\n",
       "    <tr>\n",
       "      <th>0</th>\n",
       "      <td>5</td>\n",
       "      <td>0</td>\n",
       "      <td>0</td>\n",
       "      <td>1</td>\n",
       "      <td>0</td>\n",
       "      <td>0</td>\n",
       "      <td>0</td>\n",
       "      <td>0</td>\n",
       "      <td>0</td>\n",
       "      <td>0</td>\n",
       "      <td>...</td>\n",
       "      <td>0.0</td>\n",
       "      <td>0.0</td>\n",
       "      <td>0.0</td>\n",
       "      <td>0.0</td>\n",
       "      <td>0.000000</td>\n",
       "      <td>0.0</td>\n",
       "      <td>0.0</td>\n",
       "      <td>0.0</td>\n",
       "      <td>0.0</td>\n",
       "      <td>0.0</td>\n",
       "    </tr>\n",
       "    <tr>\n",
       "      <th>1</th>\n",
       "      <td>4</td>\n",
       "      <td>0</td>\n",
       "      <td>0</td>\n",
       "      <td>1</td>\n",
       "      <td>0</td>\n",
       "      <td>0</td>\n",
       "      <td>0</td>\n",
       "      <td>0</td>\n",
       "      <td>0</td>\n",
       "      <td>0</td>\n",
       "      <td>...</td>\n",
       "      <td>0.0</td>\n",
       "      <td>0.0</td>\n",
       "      <td>0.0</td>\n",
       "      <td>0.0</td>\n",
       "      <td>0.000000</td>\n",
       "      <td>0.0</td>\n",
       "      <td>0.0</td>\n",
       "      <td>0.0</td>\n",
       "      <td>0.0</td>\n",
       "      <td>0.0</td>\n",
       "    </tr>\n",
       "    <tr>\n",
       "      <th>2</th>\n",
       "      <td>5</td>\n",
       "      <td>0</td>\n",
       "      <td>0</td>\n",
       "      <td>0</td>\n",
       "      <td>0</td>\n",
       "      <td>0</td>\n",
       "      <td>0</td>\n",
       "      <td>1</td>\n",
       "      <td>0</td>\n",
       "      <td>0</td>\n",
       "      <td>...</td>\n",
       "      <td>0.0</td>\n",
       "      <td>0.0</td>\n",
       "      <td>0.0</td>\n",
       "      <td>0.0</td>\n",
       "      <td>0.243689</td>\n",
       "      <td>0.0</td>\n",
       "      <td>0.0</td>\n",
       "      <td>0.0</td>\n",
       "      <td>0.0</td>\n",
       "      <td>0.0</td>\n",
       "    </tr>\n",
       "    <tr>\n",
       "      <th>3</th>\n",
       "      <td>3</td>\n",
       "      <td>0</td>\n",
       "      <td>0</td>\n",
       "      <td>0</td>\n",
       "      <td>0</td>\n",
       "      <td>1</td>\n",
       "      <td>0</td>\n",
       "      <td>0</td>\n",
       "      <td>0</td>\n",
       "      <td>0</td>\n",
       "      <td>...</td>\n",
       "      <td>0.0</td>\n",
       "      <td>0.0</td>\n",
       "      <td>0.0</td>\n",
       "      <td>0.0</td>\n",
       "      <td>0.093224</td>\n",
       "      <td>0.0</td>\n",
       "      <td>0.0</td>\n",
       "      <td>0.0</td>\n",
       "      <td>0.0</td>\n",
       "      <td>0.0</td>\n",
       "    </tr>\n",
       "    <tr>\n",
       "      <th>4</th>\n",
       "      <td>5</td>\n",
       "      <td>0</td>\n",
       "      <td>0</td>\n",
       "      <td>0</td>\n",
       "      <td>0</td>\n",
       "      <td>1</td>\n",
       "      <td>0</td>\n",
       "      <td>0</td>\n",
       "      <td>0</td>\n",
       "      <td>0</td>\n",
       "      <td>...</td>\n",
       "      <td>0.0</td>\n",
       "      <td>0.0</td>\n",
       "      <td>0.0</td>\n",
       "      <td>0.0</td>\n",
       "      <td>0.000000</td>\n",
       "      <td>0.0</td>\n",
       "      <td>0.0</td>\n",
       "      <td>0.0</td>\n",
       "      <td>0.0</td>\n",
       "      <td>0.0</td>\n",
       "    </tr>\n",
       "  </tbody>\n",
       "</table>\n",
       "<p>5 rows × 4217 columns</p>\n",
       "</div>"
      ],
      "text/plain": [
       "   rating  skin_tone_dark  skin_tone_deep  skin_tone_fair  \\\n",
       "0       5               0               0               1   \n",
       "1       4               0               0               1   \n",
       "2       5               0               0               0   \n",
       "3       3               0               0               0   \n",
       "4       5               0               0               0   \n",
       "\n",
       "   skin_tone_fairLight  skin_tone_light  skin_tone_lightMedium  \\\n",
       "0                    0                0                      0   \n",
       "1                    0                0                      0   \n",
       "2                    0                0                      0   \n",
       "3                    0                1                      0   \n",
       "4                    0                1                      0   \n",
       "\n",
       "   skin_tone_medium  skin_tone_mediumTan  skin_tone_olive  ...  zeolite  \\\n",
       "0                 0                    0                0  ...      0.0   \n",
       "1                 0                    0                0  ...      0.0   \n",
       "2                 1                    0                0  ...      0.0   \n",
       "3                 0                    0                0  ...      0.0   \n",
       "4                 0                    0                0  ...      0.0   \n",
       "\n",
       "   zerumbet  zerumbone  zeylanicum      zinc  zingerone  zingiber  zizanoides  \\\n",
       "0       0.0        0.0         0.0  0.000000        0.0       0.0         0.0   \n",
       "1       0.0        0.0         0.0  0.000000        0.0       0.0         0.0   \n",
       "2       0.0        0.0         0.0  0.243689        0.0       0.0         0.0   \n",
       "3       0.0        0.0         0.0  0.093224        0.0       0.0         0.0   \n",
       "4       0.0        0.0         0.0  0.000000        0.0       0.0         0.0   \n",
       "\n",
       "   ziziphus  zizyphus  \n",
       "0       0.0       0.0  \n",
       "1       0.0       0.0  \n",
       "2       0.0       0.0  \n",
       "3       0.0       0.0  \n",
       "4       0.0       0.0  \n",
       "\n",
       "[5 rows x 4217 columns]"
      ]
     },
     "execution_count": 57,
     "metadata": {},
     "output_type": "execute_result"
    }
   ],
   "source": [
    "from sklearn.feature_extraction.text import TfidfVectorizer\n",
    "\n",
    "# Here we vectorize the ingredient text using TF-IDF\n",
    "tfidf_vectorizer = TfidfVectorizer()  \n",
    "ingredients_tfidf = tfidf_vectorizer.fit_transform(s_df['ingredients'])\n",
    "\n",
    "tfidf_df = pd.DataFrame(ingredients_tfidf.toarray(), columns=tfidf_vectorizer.get_feature_names_out())\n",
    "\n",
    "# Here we need to make sure the array shapes are consistent, so we bring back any indexing from before\n",
    "s_df.reset_index(drop=True, inplace=True)\n",
    "tfidf_df.reset_index(drop=True, inplace=True)\n",
    "\n",
    "s_df = pd.concat([s_df, tfidf_df], axis=1)\n",
    "\n",
    "s_df = s_df.drop(columns=['ingredients'])\n",
    "s_df.head(5)"
   ]
  },
  {
   "cell_type": "code",
   "execution_count": 58,
   "id": "0d8acde9",
   "metadata": {},
   "outputs": [
    {
     "name": "stdout",
     "output_type": "stream",
     "text": [
      "Requirement already satisfied: tensorflow in c:\\users\\lsikk\\anaconda3\\lib\\site-packages (2.16.1)\n",
      "Requirement already satisfied: tensorflow-intel==2.16.1 in c:\\users\\lsikk\\anaconda3\\lib\\site-packages (from tensorflow) (2.16.1)\n",
      "Requirement already satisfied: numpy<2.0.0,>=1.23.5 in c:\\users\\lsikk\\anaconda3\\lib\\site-packages (from tensorflow-intel==2.16.1->tensorflow) (1.26.4)\n",
      "Requirement already satisfied: google-pasta>=0.1.1 in c:\\users\\lsikk\\anaconda3\\lib\\site-packages (from tensorflow-intel==2.16.1->tensorflow) (0.2.0)\n",
      "Requirement already satisfied: packaging in c:\\users\\lsikk\\anaconda3\\lib\\site-packages (from tensorflow-intel==2.16.1->tensorflow) (21.3)\n",
      "Requirement already satisfied: six>=1.12.0 in c:\\users\\lsikk\\anaconda3\\lib\\site-packages (from tensorflow-intel==2.16.1->tensorflow) (1.16.0)\n",
      "Requirement already satisfied: astunparse>=1.6.0 in c:\\users\\lsikk\\anaconda3\\lib\\site-packages (from tensorflow-intel==2.16.1->tensorflow) (1.6.3)\n",
      "Requirement already satisfied: absl-py>=1.0.0 in c:\\users\\lsikk\\anaconda3\\lib\\site-packages (from tensorflow-intel==2.16.1->tensorflow) (2.1.0)\n",
      "Requirement already satisfied: flatbuffers>=23.5.26 in c:\\users\\lsikk\\anaconda3\\lib\\site-packages (from tensorflow-intel==2.16.1->tensorflow) (24.3.25)\n",
      "Requirement already satisfied: gast!=0.5.0,!=0.5.1,!=0.5.2,>=0.2.1 in c:\\users\\lsikk\\anaconda3\\lib\\site-packages (from tensorflow-intel==2.16.1->tensorflow) (0.5.4)\n",
      "Requirement already satisfied: libclang>=13.0.0 in c:\\users\\lsikk\\anaconda3\\lib\\site-packages (from tensorflow-intel==2.16.1->tensorflow) (18.1.1)\n",
      "Requirement already satisfied: ml-dtypes~=0.3.1 in c:\\users\\lsikk\\anaconda3\\lib\\site-packages (from tensorflow-intel==2.16.1->tensorflow) (0.3.2)\n",
      "Requirement already satisfied: protobuf!=4.21.0,!=4.21.1,!=4.21.2,!=4.21.3,!=4.21.4,!=4.21.5,<5.0.0dev,>=3.20.3 in c:\\users\\lsikk\\anaconda3\\lib\\site-packages (from tensorflow-intel==2.16.1->tensorflow) (4.25.3)\n",
      "Requirement already satisfied: h5py>=3.10.0 in c:\\users\\lsikk\\anaconda3\\lib\\site-packages (from tensorflow-intel==2.16.1->tensorflow) (3.11.0)\n",
      "Requirement already satisfied: keras>=3.0.0 in c:\\users\\lsikk\\anaconda3\\lib\\site-packages (from tensorflow-intel==2.16.1->tensorflow) (3.3.3)\n",
      "Requirement already satisfied: termcolor>=1.1.0 in c:\\users\\lsikk\\anaconda3\\lib\\site-packages (from tensorflow-intel==2.16.1->tensorflow) (2.4.0)\n",
      "Requirement already satisfied: tensorboard<2.17,>=2.16 in c:\\users\\lsikk\\anaconda3\\lib\\site-packages (from tensorflow-intel==2.16.1->tensorflow) (2.16.2)\n",
      "Requirement already satisfied: grpcio<2.0,>=1.24.3 in c:\\users\\lsikk\\anaconda3\\lib\\site-packages (from tensorflow-intel==2.16.1->tensorflow) (1.64.0)\n",
      "Requirement already satisfied: requests<3,>=2.21.0 in c:\\users\\lsikk\\anaconda3\\lib\\site-packages (from tensorflow-intel==2.16.1->tensorflow) (2.28.1)\n",
      "Requirement already satisfied: tensorflow-io-gcs-filesystem>=0.23.1 in c:\\users\\lsikk\\anaconda3\\lib\\site-packages (from tensorflow-intel==2.16.1->tensorflow) (0.31.0)\n",
      "Requirement already satisfied: setuptools in c:\\users\\lsikk\\anaconda3\\lib\\site-packages (from tensorflow-intel==2.16.1->tensorflow) (63.4.1)\n",
      "Requirement already satisfied: wrapt>=1.11.0 in c:\\users\\lsikk\\anaconda3\\lib\\site-packages (from tensorflow-intel==2.16.1->tensorflow) (1.14.1)\n",
      "Requirement already satisfied: typing-extensions>=3.6.6 in c:\\users\\lsikk\\anaconda3\\lib\\site-packages (from tensorflow-intel==2.16.1->tensorflow) (4.3.0)\n",
      "Requirement already satisfied: opt-einsum>=2.3.2 in c:\\users\\lsikk\\anaconda3\\lib\\site-packages (from tensorflow-intel==2.16.1->tensorflow) (3.3.0)\n",
      "Requirement already satisfied: wheel<1.0,>=0.23.0 in c:\\users\\lsikk\\anaconda3\\lib\\site-packages (from astunparse>=1.6.0->tensorflow-intel==2.16.1->tensorflow) (0.37.1)\n",
      "Requirement already satisfied: rich in c:\\users\\lsikk\\anaconda3\\lib\\site-packages (from keras>=3.0.0->tensorflow-intel==2.16.1->tensorflow) (13.7.1)\n",
      "Requirement already satisfied: namex in c:\\users\\lsikk\\anaconda3\\lib\\site-packages (from keras>=3.0.0->tensorflow-intel==2.16.1->tensorflow) (0.0.8)\n",
      "Requirement already satisfied: optree in c:\\users\\lsikk\\anaconda3\\lib\\site-packages (from keras>=3.0.0->tensorflow-intel==2.16.1->tensorflow) (0.11.0)\n",
      "Requirement already satisfied: idna<4,>=2.5 in c:\\users\\lsikk\\anaconda3\\lib\\site-packages (from requests<3,>=2.21.0->tensorflow-intel==2.16.1->tensorflow) (3.3)\n",
      "Requirement already satisfied: certifi>=2017.4.17 in c:\\users\\lsikk\\anaconda3\\lib\\site-packages (from requests<3,>=2.21.0->tensorflow-intel==2.16.1->tensorflow) (2022.9.14)\n",
      "Requirement already satisfied: urllib3<1.27,>=1.21.1 in c:\\users\\lsikk\\anaconda3\\lib\\site-packages (from requests<3,>=2.21.0->tensorflow-intel==2.16.1->tensorflow) (1.26.11)\n",
      "Requirement already satisfied: charset-normalizer<3,>=2 in c:\\users\\lsikk\\anaconda3\\lib\\site-packages (from requests<3,>=2.21.0->tensorflow-intel==2.16.1->tensorflow) (2.0.4)\n",
      "Requirement already satisfied: werkzeug>=1.0.1 in c:\\users\\lsikk\\anaconda3\\lib\\site-packages (from tensorboard<2.17,>=2.16->tensorflow-intel==2.16.1->tensorflow) (2.0.3)\n",
      "Requirement already satisfied: tensorboard-data-server<0.8.0,>=0.7.0 in c:\\users\\lsikk\\anaconda3\\lib\\site-packages (from tensorboard<2.17,>=2.16->tensorflow-intel==2.16.1->tensorflow) (0.7.2)\n",
      "Requirement already satisfied: markdown>=2.6.8 in c:\\users\\lsikk\\anaconda3\\lib\\site-packages (from tensorboard<2.17,>=2.16->tensorflow-intel==2.16.1->tensorflow) (3.3.4)\n",
      "Requirement already satisfied: pyparsing!=3.0.5,>=2.0.2 in c:\\users\\lsikk\\anaconda3\\lib\\site-packages (from packaging->tensorflow-intel==2.16.1->tensorflow) (3.0.9)\n",
      "Requirement already satisfied: markdown-it-py>=2.2.0 in c:\\users\\lsikk\\anaconda3\\lib\\site-packages (from rich->keras>=3.0.0->tensorflow-intel==2.16.1->tensorflow) (3.0.0)\n",
      "Requirement already satisfied: pygments<3.0.0,>=2.13.0 in c:\\users\\lsikk\\anaconda3\\lib\\site-packages (from rich->keras>=3.0.0->tensorflow-intel==2.16.1->tensorflow) (2.18.0)\n",
      "Requirement already satisfied: mdurl~=0.1 in c:\\users\\lsikk\\anaconda3\\lib\\site-packages (from markdown-it-py>=2.2.0->rich->keras>=3.0.0->tensorflow-intel==2.16.1->tensorflow) (0.1.2)\n"
     ]
    }
   ],
   "source": [
    "# We need to install tensorflow since the MLP model will use its tools\n",
    "!pip install tensorflow"
   ]
  },
  {
   "cell_type": "code",
   "execution_count": 59,
   "id": "14508007",
   "metadata": {},
   "outputs": [],
   "source": [
    "from sklearn.model_selection import train_test_split\n",
    "\n",
    "# Here I perform a train-test-val split in order to monitor the model's performance later\n",
    "X = s_df.drop(columns=['rating']) \n",
    "y = s_df['rating'] # target feature (to be predicted)\n",
    "\n",
    "# Here we perform an 80-10-10 train-test-val split\n",
    "X_train, X_test, y_train, y_test = train_test_split(X, y, test_size=0.2, random_state=28)\n",
    "\n",
    "X_train, X_val, y_train, y_val = train_test_split(X_train, y_train, test_size=0.5, random_state=28)\n"
   ]
  },
  {
   "cell_type": "code",
   "execution_count": 89,
   "id": "1d4c7d3c",
   "metadata": {},
   "outputs": [],
   "source": [
    "import tensorflow as tf\n",
    "import datetime, os\n",
    "\n",
    "input_shape = X_train.shape[1]\n",
    "\n",
    "\n",
    "# This function makes a model with 2 hidden layers\n",
    "def create_base_model():\n",
    "    return tf.keras.Sequential([\n",
    "        tf.keras.layers.Input(shape=(input_shape,)),\n",
    "        tf.keras.layers.Dense(64, activation='relu'), # ReLu is one of the most common activation functions\n",
    "        tf.keras.layers.Dense(64, activation='relu'),\n",
    "        tf.keras.layers.Dense(1)  # Dense output layer instead of softmax since this is a regression problem\n",
    "    ])\n",
    "\n",
    "def train_model(create_model, model_name):\n",
    "    model = create_model()\n",
    "    model.compile(optimizer='adam', loss='mse', metrics=['mae']) # These are standard model hyperparameters\n",
    "    logdir = os.path.join('logs', model_name) # This is to create a path for tensorboard logging\n",
    "    tensorboard_callback = tf.keras.callbacks.TensorBoard(logdir, histogram_freq=1) \n",
    "    history = model.fit(X_train, y_train, \n",
    "                    epochs=50, \n",
    "                    batch_size=32,  \n",
    "                    validation_data=(X_val, y_val),\n",
    "                    callbacks=[tensorboard_callback]) # The model's training will be monitored and displayed in Tensorboard\n",
    "    test_loss, test_mae = model.evaluate(X_test, y_test)\n",
    "    print(f\"Test MAE: {test_mae}\")\n"
   ]
  },
  {
   "cell_type": "code",
   "execution_count": 90,
   "id": "a2de51f3",
   "metadata": {},
   "outputs": [
    {
     "name": "stdout",
     "output_type": "stream",
     "text": [
      "Epoch 1/50\n",
      "\u001b[1m200/200\u001b[0m \u001b[32m━━━━━━━━━━━━━━━━━━━━\u001b[0m\u001b[37m\u001b[0m \u001b[1m1s\u001b[0m 3ms/step - loss: 7.5721 - mae: 2.1688 - val_loss: 1.3785 - val_mae: 0.9208\n",
      "Epoch 2/50\n",
      "\u001b[1m200/200\u001b[0m \u001b[32m━━━━━━━━━━━━━━━━━━━━\u001b[0m\u001b[37m\u001b[0m \u001b[1m1s\u001b[0m 2ms/step - loss: 1.2836 - mae: 0.8675 - val_loss: 1.3725 - val_mae: 0.8950\n",
      "Epoch 3/50\n",
      "\u001b[1m200/200\u001b[0m \u001b[32m━━━━━━━━━━━━━━━━━━━━\u001b[0m\u001b[37m\u001b[0m \u001b[1m0s\u001b[0m 2ms/step - loss: 1.1937 - mae: 0.8161 - val_loss: 1.3849 - val_mae: 0.8875\n",
      "Epoch 4/50\n",
      "\u001b[1m200/200\u001b[0m \u001b[32m━━━━━━━━━━━━━━━━━━━━\u001b[0m\u001b[37m\u001b[0m \u001b[1m0s\u001b[0m 2ms/step - loss: 1.1599 - mae: 0.8024 - val_loss: 1.4013 - val_mae: 0.9211\n",
      "Epoch 5/50\n",
      "\u001b[1m200/200\u001b[0m \u001b[32m━━━━━━━━━━━━━━━━━━━━\u001b[0m\u001b[37m\u001b[0m \u001b[1m0s\u001b[0m 2ms/step - loss: 1.1776 - mae: 0.8015 - val_loss: 1.4116 - val_mae: 0.9071\n",
      "Epoch 6/50\n",
      "\u001b[1m200/200\u001b[0m \u001b[32m━━━━━━━━━━━━━━━━━━━━\u001b[0m\u001b[37m\u001b[0m \u001b[1m0s\u001b[0m 2ms/step - loss: 1.0733 - mae: 0.7756 - val_loss: 1.4542 - val_mae: 0.8791\n",
      "Epoch 7/50\n",
      "\u001b[1m200/200\u001b[0m \u001b[32m━━━━━━━━━━━━━━━━━━━━\u001b[0m\u001b[37m\u001b[0m \u001b[1m0s\u001b[0m 2ms/step - loss: 1.0407 - mae: 0.7484 - val_loss: 1.4575 - val_mae: 0.8883\n",
      "Epoch 8/50\n",
      "\u001b[1m200/200\u001b[0m \u001b[32m━━━━━━━━━━━━━━━━━━━━\u001b[0m\u001b[37m\u001b[0m \u001b[1m0s\u001b[0m 2ms/step - loss: 0.9748 - mae: 0.7270 - val_loss: 1.5437 - val_mae: 0.8862\n",
      "Epoch 9/50\n",
      "\u001b[1m200/200\u001b[0m \u001b[32m━━━━━━━━━━━━━━━━━━━━\u001b[0m\u001b[37m\u001b[0m \u001b[1m0s\u001b[0m 2ms/step - loss: 0.9298 - mae: 0.7085 - val_loss: 1.5373 - val_mae: 0.9235\n",
      "Epoch 10/50\n",
      "\u001b[1m200/200\u001b[0m \u001b[32m━━━━━━━━━━━━━━━━━━━━\u001b[0m\u001b[37m\u001b[0m \u001b[1m0s\u001b[0m 2ms/step - loss: 0.8737 - mae: 0.6833 - val_loss: 1.6077 - val_mae: 0.9092\n",
      "Epoch 11/50\n",
      "\u001b[1m200/200\u001b[0m \u001b[32m━━━━━━━━━━━━━━━━━━━━\u001b[0m\u001b[37m\u001b[0m \u001b[1m0s\u001b[0m 2ms/step - loss: 0.8473 - mae: 0.6659 - val_loss: 1.5959 - val_mae: 0.9443\n",
      "Epoch 12/50\n",
      "\u001b[1m200/200\u001b[0m \u001b[32m━━━━━━━━━━━━━━━━━━━━\u001b[0m\u001b[37m\u001b[0m \u001b[1m0s\u001b[0m 2ms/step - loss: 0.7744 - mae: 0.6305 - val_loss: 1.6925 - val_mae: 0.9486\n",
      "Epoch 13/50\n",
      "\u001b[1m200/200\u001b[0m \u001b[32m━━━━━━━━━━━━━━━━━━━━\u001b[0m\u001b[37m\u001b[0m \u001b[1m0s\u001b[0m 2ms/step - loss: 0.7416 - mae: 0.6072 - val_loss: 1.7206 - val_mae: 0.9709\n",
      "Epoch 14/50\n",
      "\u001b[1m200/200\u001b[0m \u001b[32m━━━━━━━━━━━━━━━━━━━━\u001b[0m\u001b[37m\u001b[0m \u001b[1m1s\u001b[0m 2ms/step - loss: 0.6877 - mae: 0.5885 - val_loss: 1.7357 - val_mae: 0.9924\n",
      "Epoch 15/50\n",
      "\u001b[1m200/200\u001b[0m \u001b[32m━━━━━━━━━━━━━━━━━━━━\u001b[0m\u001b[37m\u001b[0m \u001b[1m0s\u001b[0m 2ms/step - loss: 0.6632 - mae: 0.5805 - val_loss: 1.7780 - val_mae: 1.0167\n",
      "Epoch 16/50\n",
      "\u001b[1m200/200\u001b[0m \u001b[32m━━━━━━━━━━━━━━━━━━━━\u001b[0m\u001b[37m\u001b[0m \u001b[1m0s\u001b[0m 2ms/step - loss: 0.6919 - mae: 0.5929 - val_loss: 1.8519 - val_mae: 0.9992\n",
      "Epoch 17/50\n",
      "\u001b[1m200/200\u001b[0m \u001b[32m━━━━━━━━━━━━━━━━━━━━\u001b[0m\u001b[37m\u001b[0m \u001b[1m0s\u001b[0m 2ms/step - loss: 0.6140 - mae: 0.5483 - val_loss: 1.8676 - val_mae: 1.0195\n",
      "Epoch 18/50\n",
      "\u001b[1m200/200\u001b[0m \u001b[32m━━━━━━━━━━━━━━━━━━━━\u001b[0m\u001b[37m\u001b[0m \u001b[1m0s\u001b[0m 2ms/step - loss: 0.5883 - mae: 0.5286 - val_loss: 1.8594 - val_mae: 1.0126\n",
      "Epoch 19/50\n",
      "\u001b[1m200/200\u001b[0m \u001b[32m━━━━━━━━━━━━━━━━━━━━\u001b[0m\u001b[37m\u001b[0m \u001b[1m0s\u001b[0m 2ms/step - loss: 0.5625 - mae: 0.5075 - val_loss: 1.9125 - val_mae: 1.0161\n",
      "Epoch 20/50\n",
      "\u001b[1m200/200\u001b[0m \u001b[32m━━━━━━━━━━━━━━━━━━━━\u001b[0m\u001b[37m\u001b[0m \u001b[1m0s\u001b[0m 2ms/step - loss: 0.5601 - mae: 0.5068 - val_loss: 1.8984 - val_mae: 1.0498\n",
      "Epoch 21/50\n",
      "\u001b[1m200/200\u001b[0m \u001b[32m━━━━━━━━━━━━━━━━━━━━\u001b[0m\u001b[37m\u001b[0m \u001b[1m0s\u001b[0m 2ms/step - loss: 0.5878 - mae: 0.5315 - val_loss: 1.9472 - val_mae: 1.0435\n",
      "Epoch 22/50\n",
      "\u001b[1m200/200\u001b[0m \u001b[32m━━━━━━━━━━━━━━━━━━━━\u001b[0m\u001b[37m\u001b[0m \u001b[1m0s\u001b[0m 2ms/step - loss: 0.5239 - mae: 0.4864 - val_loss: 1.9570 - val_mae: 1.0311\n",
      "Epoch 23/50\n",
      "\u001b[1m200/200\u001b[0m \u001b[32m━━━━━━━━━━━━━━━━━━━━\u001b[0m\u001b[37m\u001b[0m \u001b[1m0s\u001b[0m 2ms/step - loss: 0.4809 - mae: 0.4710 - val_loss: 1.9591 - val_mae: 1.0392\n",
      "Epoch 24/50\n",
      "\u001b[1m200/200\u001b[0m \u001b[32m━━━━━━━━━━━━━━━━━━━━\u001b[0m\u001b[37m\u001b[0m \u001b[1m0s\u001b[0m 2ms/step - loss: 0.5223 - mae: 0.4863 - val_loss: 1.9390 - val_mae: 1.0511\n",
      "Epoch 25/50\n",
      "\u001b[1m200/200\u001b[0m \u001b[32m━━━━━━━━━━━━━━━━━━━━\u001b[0m\u001b[37m\u001b[0m \u001b[1m0s\u001b[0m 2ms/step - loss: 0.4951 - mae: 0.4617 - val_loss: 1.9379 - val_mae: 1.0385\n",
      "Epoch 26/50\n",
      "\u001b[1m200/200\u001b[0m \u001b[32m━━━━━━━━━━━━━━━━━━━━\u001b[0m\u001b[37m\u001b[0m \u001b[1m0s\u001b[0m 2ms/step - loss: 0.4901 - mae: 0.4614 - val_loss: 2.0100 - val_mae: 1.0502\n",
      "Epoch 27/50\n",
      "\u001b[1m200/200\u001b[0m \u001b[32m━━━━━━━━━━━━━━━━━━━━\u001b[0m\u001b[37m\u001b[0m \u001b[1m0s\u001b[0m 2ms/step - loss: 0.4711 - mae: 0.4497 - val_loss: 2.0168 - val_mae: 1.0931\n",
      "Epoch 28/50\n",
      "\u001b[1m200/200\u001b[0m \u001b[32m━━━━━━━━━━━━━━━━━━━━\u001b[0m\u001b[37m\u001b[0m \u001b[1m0s\u001b[0m 2ms/step - loss: 0.4881 - mae: 0.4644 - val_loss: 1.9699 - val_mae: 1.0474\n",
      "Epoch 29/50\n",
      "\u001b[1m200/200\u001b[0m \u001b[32m━━━━━━━━━━━━━━━━━━━━\u001b[0m\u001b[37m\u001b[0m \u001b[1m0s\u001b[0m 2ms/step - loss: 0.4536 - mae: 0.4321 - val_loss: 2.0106 - val_mae: 1.0434\n",
      "Epoch 30/50\n",
      "\u001b[1m200/200\u001b[0m \u001b[32m━━━━━━━━━━━━━━━━━━━━\u001b[0m\u001b[37m\u001b[0m \u001b[1m0s\u001b[0m 2ms/step - loss: 0.4291 - mae: 0.4200 - val_loss: 1.9853 - val_mae: 1.0491\n",
      "Epoch 31/50\n",
      "\u001b[1m200/200\u001b[0m \u001b[32m━━━━━━━━━━━━━━━━━━━━\u001b[0m\u001b[37m\u001b[0m \u001b[1m0s\u001b[0m 2ms/step - loss: 0.4396 - mae: 0.4211 - val_loss: 2.0708 - val_mae: 1.0679\n",
      "Epoch 32/50\n",
      "\u001b[1m200/200\u001b[0m \u001b[32m━━━━━━━━━━━━━━━━━━━━\u001b[0m\u001b[37m\u001b[0m \u001b[1m0s\u001b[0m 2ms/step - loss: 0.4298 - mae: 0.4182 - val_loss: 2.0466 - val_mae: 1.0626\n",
      "Epoch 33/50\n",
      "\u001b[1m200/200\u001b[0m \u001b[32m━━━━━━━━━━━━━━━━━━━━\u001b[0m\u001b[37m\u001b[0m \u001b[1m0s\u001b[0m 2ms/step - loss: 0.4288 - mae: 0.4165 - val_loss: 2.0085 - val_mae: 1.0805\n",
      "Epoch 34/50\n",
      "\u001b[1m200/200\u001b[0m \u001b[32m━━━━━━━━━━━━━━━━━━━━\u001b[0m\u001b[37m\u001b[0m \u001b[1m0s\u001b[0m 2ms/step - loss: 0.4365 - mae: 0.4286 - val_loss: 2.0494 - val_mae: 1.0544\n",
      "Epoch 35/50\n",
      "\u001b[1m200/200\u001b[0m \u001b[32m━━━━━━━━━━━━━━━━━━━━\u001b[0m\u001b[37m\u001b[0m \u001b[1m0s\u001b[0m 2ms/step - loss: 0.4338 - mae: 0.4128 - val_loss: 2.0157 - val_mae: 1.0435\n",
      "Epoch 36/50\n",
      "\u001b[1m200/200\u001b[0m \u001b[32m━━━━━━━━━━━━━━━━━━━━\u001b[0m\u001b[37m\u001b[0m \u001b[1m0s\u001b[0m 2ms/step - loss: 0.4010 - mae: 0.4010 - val_loss: 2.0296 - val_mae: 1.1016\n",
      "Epoch 37/50\n",
      "\u001b[1m200/200\u001b[0m \u001b[32m━━━━━━━━━━━━━━━━━━━━\u001b[0m\u001b[37m\u001b[0m \u001b[1m0s\u001b[0m 2ms/step - loss: 0.4062 - mae: 0.4096 - val_loss: 2.0424 - val_mae: 1.0465\n",
      "Epoch 38/50\n",
      "\u001b[1m200/200\u001b[0m \u001b[32m━━━━━━━━━━━━━━━━━━━━\u001b[0m\u001b[37m\u001b[0m \u001b[1m0s\u001b[0m 2ms/step - loss: 0.3908 - mae: 0.3877 - val_loss: 2.0213 - val_mae: 1.0300\n",
      "Epoch 39/50\n",
      "\u001b[1m200/200\u001b[0m \u001b[32m━━━━━━━━━━━━━━━━━━━━\u001b[0m\u001b[37m\u001b[0m \u001b[1m0s\u001b[0m 2ms/step - loss: 0.3965 - mae: 0.3864 - val_loss: 2.0289 - val_mae: 1.0233\n",
      "Epoch 40/50\n",
      "\u001b[1m200/200\u001b[0m \u001b[32m━━━━━━━━━━━━━━━━━━━━\u001b[0m\u001b[37m\u001b[0m \u001b[1m0s\u001b[0m 2ms/step - loss: 0.3617 - mae: 0.3718 - val_loss: 2.1296 - val_mae: 1.0874\n",
      "Epoch 41/50\n",
      "\u001b[1m200/200\u001b[0m \u001b[32m━━━━━━━━━━━━━━━━━━━━\u001b[0m\u001b[37m\u001b[0m \u001b[1m0s\u001b[0m 2ms/step - loss: 0.3881 - mae: 0.3879 - val_loss: 2.0421 - val_mae: 1.0517\n",
      "Epoch 42/50\n",
      "\u001b[1m200/200\u001b[0m \u001b[32m━━━━━━━━━━━━━━━━━━━━\u001b[0m\u001b[37m\u001b[0m \u001b[1m0s\u001b[0m 2ms/step - loss: 0.4022 - mae: 0.3882 - val_loss: 2.0088 - val_mae: 1.0095\n",
      "Epoch 43/50\n",
      "\u001b[1m200/200\u001b[0m \u001b[32m━━━━━━━━━━━━━━━━━━━━\u001b[0m\u001b[37m\u001b[0m \u001b[1m0s\u001b[0m 2ms/step - loss: 0.3834 - mae: 0.3757 - val_loss: 2.0537 - val_mae: 1.0489\n",
      "Epoch 44/50\n",
      "\u001b[1m200/200\u001b[0m \u001b[32m━━━━━━━━━━━━━━━━━━━━\u001b[0m\u001b[37m\u001b[0m \u001b[1m0s\u001b[0m 2ms/step - loss: 0.3627 - mae: 0.3658 - val_loss: 2.0827 - val_mae: 1.0403\n",
      "Epoch 45/50\n",
      "\u001b[1m200/200\u001b[0m \u001b[32m━━━━━━━━━━━━━━━━━━━━\u001b[0m\u001b[37m\u001b[0m \u001b[1m0s\u001b[0m 2ms/step - loss: 0.3764 - mae: 0.3644 - val_loss: 2.0772 - val_mae: 1.0580\n",
      "Epoch 46/50\n",
      "\u001b[1m200/200\u001b[0m \u001b[32m━━━━━━━━━━━━━━━━━━━━\u001b[0m\u001b[37m\u001b[0m \u001b[1m0s\u001b[0m 2ms/step - loss: 0.3654 - mae: 0.3668 - val_loss: 2.0238 - val_mae: 1.0343\n",
      "Epoch 47/50\n",
      "\u001b[1m200/200\u001b[0m \u001b[32m━━━━━━━━━━━━━━━━━━━━\u001b[0m\u001b[37m\u001b[0m \u001b[1m0s\u001b[0m 2ms/step - loss: 0.3588 - mae: 0.3601 - val_loss: 2.0420 - val_mae: 1.0421\n",
      "Epoch 48/50\n",
      "\u001b[1m200/200\u001b[0m \u001b[32m━━━━━━━━━━━━━━━━━━━━\u001b[0m\u001b[37m\u001b[0m \u001b[1m0s\u001b[0m 2ms/step - loss: 0.3510 - mae: 0.3590 - val_loss: 2.0943 - val_mae: 1.0637\n",
      "Epoch 49/50\n",
      "\u001b[1m200/200\u001b[0m \u001b[32m━━━━━━━━━━━━━━━━━━━━\u001b[0m\u001b[37m\u001b[0m \u001b[1m0s\u001b[0m 2ms/step - loss: 0.3522 - mae: 0.3539 - val_loss: 2.0576 - val_mae: 1.0308\n",
      "Epoch 50/50\n",
      "\u001b[1m200/200\u001b[0m \u001b[32m━━━━━━━━━━━━━━━━━━━━\u001b[0m\u001b[37m\u001b[0m \u001b[1m0s\u001b[0m 2ms/step - loss: 0.3385 - mae: 0.3488 - val_loss: 2.1189 - val_mae: 1.0419\n",
      "\u001b[1m63/63\u001b[0m \u001b[32m━━━━━━━━━━━━━━━━━━━━\u001b[0m\u001b[37m\u001b[0m \u001b[1m0s\u001b[0m 610us/step - loss: 2.0371 - mae: 1.0115\n",
      "Test MAE: 1.036259412765503\n"
     ]
    }
   ],
   "source": [
    "train_model(create_base_model, 'base_model')"
   ]
  },
  {
   "cell_type": "code",
   "execution_count": 91,
   "id": "0509efb5",
   "metadata": {},
   "outputs": [
    {
     "name": "stdout",
     "output_type": "stream",
     "text": [
      "Epoch 1/50\n",
      "\u001b[1m200/200\u001b[0m \u001b[32m━━━━━━━━━━━━━━━━━━━━\u001b[0m\u001b[37m\u001b[0m \u001b[1m1s\u001b[0m 3ms/step - loss: 13.6263 - mae: 3.3457 - val_loss: 3.0669 - val_mae: 1.6393\n",
      "Epoch 2/50\n",
      "\u001b[1m200/200\u001b[0m \u001b[32m━━━━━━━━━━━━━━━━━━━━\u001b[0m\u001b[37m\u001b[0m \u001b[1m0s\u001b[0m 2ms/step - loss: 1.2346 - mae: 0.8623 - val_loss: 1.5484 - val_mae: 1.0433\n",
      "Epoch 3/50\n",
      "\u001b[1m200/200\u001b[0m \u001b[32m━━━━━━━━━━━━━━━━━━━━\u001b[0m\u001b[37m\u001b[0m \u001b[1m0s\u001b[0m 2ms/step - loss: 0.9892 - mae: 0.7380 - val_loss: 1.5686 - val_mae: 0.9848\n",
      "Epoch 4/50\n",
      "\u001b[1m200/200\u001b[0m \u001b[32m━━━━━━━━━━━━━━━━━━━━\u001b[0m\u001b[37m\u001b[0m \u001b[1m1s\u001b[0m 3ms/step - loss: 0.8880 - mae: 0.6946 - val_loss: 1.6502 - val_mae: 0.9727\n",
      "Epoch 5/50\n",
      "\u001b[1m200/200\u001b[0m \u001b[32m━━━━━━━━━━━━━━━━━━━━\u001b[0m\u001b[37m\u001b[0m \u001b[1m1s\u001b[0m 3ms/step - loss: 0.7890 - mae: 0.6487 - val_loss: 1.6654 - val_mae: 0.9350\n",
      "Epoch 6/50\n",
      "\u001b[1m200/200\u001b[0m \u001b[32m━━━━━━━━━━━━━━━━━━━━\u001b[0m\u001b[37m\u001b[0m \u001b[1m1s\u001b[0m 3ms/step - loss: 0.7313 - mae: 0.6192 - val_loss: 1.6711 - val_mae: 0.9688\n",
      "Epoch 7/50\n",
      "\u001b[1m200/200\u001b[0m \u001b[32m━━━━━━━━━━━━━━━━━━━━\u001b[0m\u001b[37m\u001b[0m \u001b[1m1s\u001b[0m 3ms/step - loss: 0.7344 - mae: 0.6264 - val_loss: 1.7183 - val_mae: 0.9834\n",
      "Epoch 8/50\n",
      "\u001b[1m200/200\u001b[0m \u001b[32m━━━━━━━━━━━━━━━━━━━━\u001b[0m\u001b[37m\u001b[0m \u001b[1m1s\u001b[0m 2ms/step - loss: 0.6924 - mae: 0.5957 - val_loss: 1.6710 - val_mae: 0.9561\n",
      "Epoch 9/50\n",
      "\u001b[1m200/200\u001b[0m \u001b[32m━━━━━━━━━━━━━━━━━━━━\u001b[0m\u001b[37m\u001b[0m \u001b[1m0s\u001b[0m 2ms/step - loss: 0.6756 - mae: 0.5902 - val_loss: 1.7452 - val_mae: 0.9529\n",
      "Epoch 10/50\n",
      "\u001b[1m200/200\u001b[0m \u001b[32m━━━━━━━━━━━━━━━━━━━━\u001b[0m\u001b[37m\u001b[0m \u001b[1m0s\u001b[0m 2ms/step - loss: 0.6235 - mae: 0.5606 - val_loss: 1.7071 - val_mae: 0.9754\n",
      "Epoch 11/50\n",
      "\u001b[1m200/200\u001b[0m \u001b[32m━━━━━━━━━━━━━━━━━━━━\u001b[0m\u001b[37m\u001b[0m \u001b[1m0s\u001b[0m 2ms/step - loss: 0.6158 - mae: 0.5577 - val_loss: 1.7175 - val_mae: 0.9593\n",
      "Epoch 12/50\n",
      "\u001b[1m200/200\u001b[0m \u001b[32m━━━━━━━━━━━━━━━━━━━━\u001b[0m\u001b[37m\u001b[0m \u001b[1m0s\u001b[0m 2ms/step - loss: 0.6100 - mae: 0.5567 - val_loss: 1.7203 - val_mae: 0.9629\n",
      "Epoch 13/50\n",
      "\u001b[1m200/200\u001b[0m \u001b[32m━━━━━━━━━━━━━━━━━━━━\u001b[0m\u001b[37m\u001b[0m \u001b[1m0s\u001b[0m 2ms/step - loss: 0.6113 - mae: 0.5577 - val_loss: 1.7356 - val_mae: 0.9666\n",
      "Epoch 14/50\n",
      "\u001b[1m200/200\u001b[0m \u001b[32m━━━━━━━━━━━━━━━━━━━━\u001b[0m\u001b[37m\u001b[0m \u001b[1m0s\u001b[0m 2ms/step - loss: 0.5655 - mae: 0.5395 - val_loss: 1.7309 - val_mae: 0.9791\n",
      "Epoch 15/50\n",
      "\u001b[1m200/200\u001b[0m \u001b[32m━━━━━━━━━━━━━━━━━━━━\u001b[0m\u001b[37m\u001b[0m \u001b[1m0s\u001b[0m 2ms/step - loss: 0.5728 - mae: 0.5301 - val_loss: 1.7849 - val_mae: 0.9833\n",
      "Epoch 16/50\n",
      "\u001b[1m200/200\u001b[0m \u001b[32m━━━━━━━━━━━━━━━━━━━━\u001b[0m\u001b[37m\u001b[0m \u001b[1m0s\u001b[0m 2ms/step - loss: 0.5527 - mae: 0.5271 - val_loss: 1.7875 - val_mae: 1.0107\n",
      "Epoch 17/50\n",
      "\u001b[1m200/200\u001b[0m \u001b[32m━━━━━━━━━━━━━━━━━━━━\u001b[0m\u001b[37m\u001b[0m \u001b[1m0s\u001b[0m 2ms/step - loss: 0.5303 - mae: 0.5166 - val_loss: 1.7763 - val_mae: 1.0016\n",
      "Epoch 18/50\n",
      "\u001b[1m200/200\u001b[0m \u001b[32m━━━━━━━━━━━━━━━━━━━━\u001b[0m\u001b[37m\u001b[0m \u001b[1m0s\u001b[0m 2ms/step - loss: 0.5657 - mae: 0.5366 - val_loss: 1.7675 - val_mae: 0.9687\n",
      "Epoch 19/50\n",
      "\u001b[1m200/200\u001b[0m \u001b[32m━━━━━━━━━━━━━━━━━━━━\u001b[0m\u001b[37m\u001b[0m \u001b[1m0s\u001b[0m 2ms/step - loss: 0.5332 - mae: 0.5115 - val_loss: 1.8039 - val_mae: 0.9966\n",
      "Epoch 20/50\n",
      "\u001b[1m200/200\u001b[0m \u001b[32m━━━━━━━━━━━━━━━━━━━━\u001b[0m\u001b[37m\u001b[0m \u001b[1m0s\u001b[0m 2ms/step - loss: 0.5431 - mae: 0.5238 - val_loss: 1.7900 - val_mae: 0.9782\n",
      "Epoch 21/50\n",
      "\u001b[1m200/200\u001b[0m \u001b[32m━━━━━━━━━━━━━━━━━━━━\u001b[0m\u001b[37m\u001b[0m \u001b[1m0s\u001b[0m 2ms/step - loss: 0.4928 - mae: 0.4971 - val_loss: 1.8271 - val_mae: 0.9724\n",
      "Epoch 22/50\n",
      "\u001b[1m200/200\u001b[0m \u001b[32m━━━━━━━━━━━━━━━━━━━━\u001b[0m\u001b[37m\u001b[0m \u001b[1m0s\u001b[0m 2ms/step - loss: 0.5267 - mae: 0.5104 - val_loss: 1.8456 - val_mae: 0.9845\n",
      "Epoch 23/50\n",
      "\u001b[1m200/200\u001b[0m \u001b[32m━━━━━━━━━━━━━━━━━━━━\u001b[0m\u001b[37m\u001b[0m \u001b[1m1s\u001b[0m 2ms/step - loss: 0.5013 - mae: 0.4970 - val_loss: 1.8827 - val_mae: 0.9822\n",
      "Epoch 24/50\n",
      "\u001b[1m200/200\u001b[0m \u001b[32m━━━━━━━━━━━━━━━━━━━━\u001b[0m\u001b[37m\u001b[0m \u001b[1m1s\u001b[0m 3ms/step - loss: 0.4880 - mae: 0.4952 - val_loss: 1.8272 - val_mae: 0.9945\n",
      "Epoch 25/50\n",
      "\u001b[1m200/200\u001b[0m \u001b[32m━━━━━━━━━━━━━━━━━━━━\u001b[0m\u001b[37m\u001b[0m \u001b[1m0s\u001b[0m 2ms/step - loss: 0.4919 - mae: 0.4891 - val_loss: 1.8264 - val_mae: 1.0026\n",
      "Epoch 26/50\n",
      "\u001b[1m200/200\u001b[0m \u001b[32m━━━━━━━━━━━━━━━━━━━━\u001b[0m\u001b[37m\u001b[0m \u001b[1m0s\u001b[0m 2ms/step - loss: 0.5243 - mae: 0.5075 - val_loss: 1.8315 - val_mae: 0.9813\n",
      "Epoch 27/50\n",
      "\u001b[1m200/200\u001b[0m \u001b[32m━━━━━━━━━━━━━━━━━━━━\u001b[0m\u001b[37m\u001b[0m \u001b[1m0s\u001b[0m 2ms/step - loss: 0.4976 - mae: 0.4939 - val_loss: 1.9030 - val_mae: 0.9691\n",
      "Epoch 28/50\n",
      "\u001b[1m200/200\u001b[0m \u001b[32m━━━━━━━━━━━━━━━━━━━━\u001b[0m\u001b[37m\u001b[0m \u001b[1m0s\u001b[0m 2ms/step - loss: 0.4721 - mae: 0.4764 - val_loss: 1.8347 - val_mae: 0.9867\n",
      "Epoch 29/50\n",
      "\u001b[1m200/200\u001b[0m \u001b[32m━━━━━━━━━━━━━━━━━━━━\u001b[0m\u001b[37m\u001b[0m \u001b[1m0s\u001b[0m 2ms/step - loss: 0.4692 - mae: 0.4770 - val_loss: 1.8860 - val_mae: 0.9806\n",
      "Epoch 30/50\n",
      "\u001b[1m200/200\u001b[0m \u001b[32m━━━━━━━━━━━━━━━━━━━━\u001b[0m\u001b[37m\u001b[0m \u001b[1m0s\u001b[0m 2ms/step - loss: 0.4811 - mae: 0.4793 - val_loss: 1.8359 - val_mae: 1.0027\n",
      "Epoch 31/50\n",
      "\u001b[1m200/200\u001b[0m \u001b[32m━━━━━━━━━━━━━━━━━━━━\u001b[0m\u001b[37m\u001b[0m \u001b[1m0s\u001b[0m 2ms/step - loss: 0.4912 - mae: 0.4898 - val_loss: 1.9043 - val_mae: 1.0026\n",
      "Epoch 32/50\n",
      "\u001b[1m200/200\u001b[0m \u001b[32m━━━━━━━━━━━━━━━━━━━━\u001b[0m\u001b[37m\u001b[0m \u001b[1m0s\u001b[0m 2ms/step - loss: 0.4759 - mae: 0.4814 - val_loss: 1.8637 - val_mae: 0.9945\n",
      "Epoch 33/50\n",
      "\u001b[1m200/200\u001b[0m \u001b[32m━━━━━━━━━━━━━━━━━━━━\u001b[0m\u001b[37m\u001b[0m \u001b[1m0s\u001b[0m 2ms/step - loss: 0.4466 - mae: 0.4622 - val_loss: 1.8952 - val_mae: 0.9926\n",
      "Epoch 34/50\n",
      "\u001b[1m200/200\u001b[0m \u001b[32m━━━━━━━━━━━━━━━━━━━━\u001b[0m\u001b[37m\u001b[0m \u001b[1m1s\u001b[0m 3ms/step - loss: 0.4645 - mae: 0.4733 - val_loss: 1.9086 - val_mae: 0.9938\n",
      "Epoch 35/50\n",
      "\u001b[1m200/200\u001b[0m \u001b[32m━━━━━━━━━━━━━━━━━━━━\u001b[0m\u001b[37m\u001b[0m \u001b[1m1s\u001b[0m 3ms/step - loss: 0.4567 - mae: 0.4670 - val_loss: 1.8732 - val_mae: 0.9949\n",
      "Epoch 36/50\n",
      "\u001b[1m200/200\u001b[0m \u001b[32m━━━━━━━━━━━━━━━━━━━━\u001b[0m\u001b[37m\u001b[0m \u001b[1m0s\u001b[0m 2ms/step - loss: 0.4698 - mae: 0.4721 - val_loss: 1.9163 - val_mae: 0.9973\n",
      "Epoch 37/50\n",
      "\u001b[1m200/200\u001b[0m \u001b[32m━━━━━━━━━━━━━━━━━━━━\u001b[0m\u001b[37m\u001b[0m \u001b[1m1s\u001b[0m 2ms/step - loss: 0.4554 - mae: 0.4600 - val_loss: 1.8680 - val_mae: 1.0183\n",
      "Epoch 38/50\n",
      "\u001b[1m200/200\u001b[0m \u001b[32m━━━━━━━━━━━━━━━━━━━━\u001b[0m\u001b[37m\u001b[0m \u001b[1m0s\u001b[0m 2ms/step - loss: 0.4639 - mae: 0.4726 - val_loss: 1.8846 - val_mae: 1.0079\n",
      "Epoch 39/50\n",
      "\u001b[1m200/200\u001b[0m \u001b[32m━━━━━━━━━━━━━━━━━━━━\u001b[0m\u001b[37m\u001b[0m \u001b[1m0s\u001b[0m 2ms/step - loss: 0.4689 - mae: 0.4780 - val_loss: 1.8744 - val_mae: 1.0194\n",
      "Epoch 40/50\n",
      "\u001b[1m200/200\u001b[0m \u001b[32m━━━━━━━━━━━━━━━━━━━━\u001b[0m\u001b[37m\u001b[0m \u001b[1m0s\u001b[0m 2ms/step - loss: 0.4461 - mae: 0.4667 - val_loss: 1.8539 - val_mae: 1.0099\n",
      "Epoch 41/50\n",
      "\u001b[1m200/200\u001b[0m \u001b[32m━━━━━━━━━━━━━━━━━━━━\u001b[0m\u001b[37m\u001b[0m \u001b[1m0s\u001b[0m 2ms/step - loss: 0.4242 - mae: 0.4520 - val_loss: 1.8922 - val_mae: 0.9871\n",
      "Epoch 42/50\n",
      "\u001b[1m200/200\u001b[0m \u001b[32m━━━━━━━━━━━━━━━━━━━━\u001b[0m\u001b[37m\u001b[0m \u001b[1m0s\u001b[0m 2ms/step - loss: 0.4210 - mae: 0.4446 - val_loss: 1.8904 - val_mae: 0.9863\n",
      "Epoch 43/50\n",
      "\u001b[1m200/200\u001b[0m \u001b[32m━━━━━━━━━━━━━━━━━━━━\u001b[0m\u001b[37m\u001b[0m \u001b[1m0s\u001b[0m 2ms/step - loss: 0.4459 - mae: 0.4621 - val_loss: 1.8616 - val_mae: 1.0002\n",
      "Epoch 44/50\n",
      "\u001b[1m200/200\u001b[0m \u001b[32m━━━━━━━━━━━━━━━━━━━━\u001b[0m\u001b[37m\u001b[0m \u001b[1m0s\u001b[0m 2ms/step - loss: 0.4465 - mae: 0.4565 - val_loss: 1.8456 - val_mae: 1.0212\n",
      "Epoch 45/50\n",
      "\u001b[1m200/200\u001b[0m \u001b[32m━━━━━━━━━━━━━━━━━━━━\u001b[0m\u001b[37m\u001b[0m \u001b[1m0s\u001b[0m 2ms/step - loss: 0.4326 - mae: 0.4541 - val_loss: 1.8557 - val_mae: 0.9921\n",
      "Epoch 46/50\n",
      "\u001b[1m200/200\u001b[0m \u001b[32m━━━━━━━━━━━━━━━━━━━━\u001b[0m\u001b[37m\u001b[0m \u001b[1m0s\u001b[0m 2ms/step - loss: 0.4363 - mae: 0.4511 - val_loss: 1.8738 - val_mae: 0.9869\n",
      "Epoch 47/50\n",
      "\u001b[1m200/200\u001b[0m \u001b[32m━━━━━━━━━━━━━━━━━━━━\u001b[0m\u001b[37m\u001b[0m \u001b[1m0s\u001b[0m 2ms/step - loss: 0.4347 - mae: 0.4519 - val_loss: 1.8495 - val_mae: 0.9967\n",
      "Epoch 48/50\n",
      "\u001b[1m200/200\u001b[0m \u001b[32m━━━━━━━━━━━━━━━━━━━━\u001b[0m\u001b[37m\u001b[0m \u001b[1m0s\u001b[0m 2ms/step - loss: 0.4129 - mae: 0.4391 - val_loss: 1.9532 - val_mae: 0.9914\n",
      "Epoch 49/50\n",
      "\u001b[1m200/200\u001b[0m \u001b[32m━━━━━━━━━━━━━━━━━━━━\u001b[0m\u001b[37m\u001b[0m \u001b[1m0s\u001b[0m 2ms/step - loss: 0.4366 - mae: 0.4552 - val_loss: 1.8753 - val_mae: 0.9842\n",
      "Epoch 50/50\n",
      "\u001b[1m200/200\u001b[0m \u001b[32m━━━━━━━━━━━━━━━━━━━━\u001b[0m\u001b[37m\u001b[0m \u001b[1m0s\u001b[0m 2ms/step - loss: 0.4264 - mae: 0.4482 - val_loss: 1.8551 - val_mae: 1.0007\n",
      "\u001b[1m63/63\u001b[0m \u001b[32m━━━━━━━━━━━━━━━━━━━━\u001b[0m\u001b[37m\u001b[0m \u001b[1m0s\u001b[0m 693us/step - loss: 1.7572 - mae: 0.9762\n",
      "Test MAE: 0.9888313412666321\n"
     ]
    }
   ],
   "source": [
    "# Here we try adding batch normalization layers to avoid overfitting\n",
    "def create_model_bn():\n",
    "    return tf.keras.Sequential([\n",
    "        tf.keras.layers.Input(shape=(input_shape,)),\n",
    "        tf.keras.layers.Dense(64),\n",
    "        tf.keras.layers.BatchNormalization(),  \n",
    "        tf.keras.layers.Activation('relu'),\n",
    "        tf.keras.layers.Dense(64),\n",
    "        tf.keras.layers.BatchNormalization(),  \n",
    "        tf.keras.layers.Activation('relu'),\n",
    "        tf.keras.layers.Dense(1)  \n",
    "    ])\n",
    "\n",
    "train_model(create_model_bn, 'model_with_batch_normalization')"
   ]
  },
  {
   "cell_type": "code",
   "execution_count": 92,
   "id": "265fc09c",
   "metadata": {},
   "outputs": [
    {
     "name": "stdout",
     "output_type": "stream",
     "text": [
      "Epoch 1/50\n",
      "\u001b[1m200/200\u001b[0m \u001b[32m━━━━━━━━━━━━━━━━━━━━\u001b[0m\u001b[37m\u001b[0m \u001b[1m1s\u001b[0m 3ms/step - loss: 18.6308 - mae: 3.9561 - val_loss: 5.2356 - val_mae: 2.1497\n",
      "Epoch 2/50\n",
      "\u001b[1m200/200\u001b[0m \u001b[32m━━━━━━━━━━━━━━━━━━━━\u001b[0m\u001b[37m\u001b[0m \u001b[1m1s\u001b[0m 2ms/step - loss: 2.0519 - mae: 1.1647 - val_loss: 2.2083 - val_mae: 1.3612\n",
      "Epoch 3/50\n",
      "\u001b[1m200/200\u001b[0m \u001b[32m━━━━━━━━━━━━━━━━━━━━\u001b[0m\u001b[37m\u001b[0m \u001b[1m0s\u001b[0m 2ms/step - loss: 1.7286 - mae: 1.0326 - val_loss: 1.8049 - val_mae: 1.1726\n",
      "Epoch 4/50\n",
      "\u001b[1m200/200\u001b[0m \u001b[32m━━━━━━━━━━━━━━━━━━━━\u001b[0m\u001b[37m\u001b[0m \u001b[1m1s\u001b[0m 3ms/step - loss: 1.5994 - mae: 0.9784 - val_loss: 1.6947 - val_mae: 1.1083\n",
      "Epoch 5/50\n",
      "\u001b[1m200/200\u001b[0m \u001b[32m━━━━━━━━━━━━━━━━━━━━\u001b[0m\u001b[37m\u001b[0m \u001b[1m0s\u001b[0m 2ms/step - loss: 1.5079 - mae: 0.9503 - val_loss: 1.6444 - val_mae: 1.0808\n",
      "Epoch 6/50\n",
      "\u001b[1m200/200\u001b[0m \u001b[32m━━━━━━━━━━━━━━━━━━━━\u001b[0m\u001b[37m\u001b[0m \u001b[1m1s\u001b[0m 4ms/step - loss: 1.4304 - mae: 0.9277 - val_loss: 1.6347 - val_mae: 1.0710\n",
      "Epoch 7/50\n",
      "\u001b[1m200/200\u001b[0m \u001b[32m━━━━━━━━━━━━━━━━━━━━\u001b[0m\u001b[37m\u001b[0m \u001b[1m1s\u001b[0m 3ms/step - loss: 1.3305 - mae: 0.8876 - val_loss: 1.5218 - val_mae: 0.9777\n",
      "Epoch 8/50\n",
      "\u001b[1m200/200\u001b[0m \u001b[32m━━━━━━━━━━━━━━━━━━━━\u001b[0m\u001b[37m\u001b[0m \u001b[1m0s\u001b[0m 2ms/step - loss: 1.3580 - mae: 0.8959 - val_loss: 1.5667 - val_mae: 1.0139\n",
      "Epoch 9/50\n",
      "\u001b[1m200/200\u001b[0m \u001b[32m━━━━━━━━━━━━━━━━━━━━\u001b[0m\u001b[37m\u001b[0m \u001b[1m0s\u001b[0m 2ms/step - loss: 1.3085 - mae: 0.8691 - val_loss: 1.6176 - val_mae: 1.0451\n",
      "Epoch 10/50\n",
      "\u001b[1m200/200\u001b[0m \u001b[32m━━━━━━━━━━━━━━━━━━━━\u001b[0m\u001b[37m\u001b[0m \u001b[1m0s\u001b[0m 2ms/step - loss: 1.2668 - mae: 0.8609 - val_loss: 1.6417 - val_mae: 1.0589\n",
      "Epoch 11/50\n",
      "\u001b[1m200/200\u001b[0m \u001b[32m━━━━━━━━━━━━━━━━━━━━\u001b[0m\u001b[37m\u001b[0m \u001b[1m0s\u001b[0m 2ms/step - loss: 1.1798 - mae: 0.8426 - val_loss: 1.6061 - val_mae: 1.0326\n",
      "Epoch 12/50\n",
      "\u001b[1m200/200\u001b[0m \u001b[32m━━━━━━━━━━━━━━━━━━━━\u001b[0m\u001b[37m\u001b[0m \u001b[1m1s\u001b[0m 3ms/step - loss: 1.1881 - mae: 0.8372 - val_loss: 1.5680 - val_mae: 1.0160\n",
      "Epoch 13/50\n",
      "\u001b[1m200/200\u001b[0m \u001b[32m━━━━━━━━━━━━━━━━━━━━\u001b[0m\u001b[37m\u001b[0m \u001b[1m1s\u001b[0m 3ms/step - loss: 1.1147 - mae: 0.8084 - val_loss: 1.5874 - val_mae: 1.0213\n",
      "Epoch 14/50\n",
      "\u001b[1m200/200\u001b[0m \u001b[32m━━━━━━━━━━━━━━━━━━━━\u001b[0m\u001b[37m\u001b[0m \u001b[1m1s\u001b[0m 3ms/step - loss: 1.1123 - mae: 0.8178 - val_loss: 1.6161 - val_mae: 1.0366\n",
      "Epoch 15/50\n",
      "\u001b[1m200/200\u001b[0m \u001b[32m━━━━━━━━━━━━━━━━━━━━\u001b[0m\u001b[37m\u001b[0m \u001b[1m1s\u001b[0m 4ms/step - loss: 1.1120 - mae: 0.8052 - val_loss: 1.6448 - val_mae: 1.0478\n",
      "Epoch 16/50\n",
      "\u001b[1m200/200\u001b[0m \u001b[32m━━━━━━━━━━━━━━━━━━━━\u001b[0m\u001b[37m\u001b[0m \u001b[1m1s\u001b[0m 4ms/step - loss: 1.0848 - mae: 0.7990 - val_loss: 1.6117 - val_mae: 1.0140\n",
      "Epoch 17/50\n",
      "\u001b[1m200/200\u001b[0m \u001b[32m━━━━━━━━━━━━━━━━━━━━\u001b[0m\u001b[37m\u001b[0m \u001b[1m1s\u001b[0m 3ms/step - loss: 1.0438 - mae: 0.7736 - val_loss: 1.6144 - val_mae: 1.0227\n",
      "Epoch 18/50\n",
      "\u001b[1m200/200\u001b[0m \u001b[32m━━━━━━━━━━━━━━━━━━━━\u001b[0m\u001b[37m\u001b[0m \u001b[1m0s\u001b[0m 2ms/step - loss: 1.0738 - mae: 0.7945 - val_loss: 1.6542 - val_mae: 1.0480\n",
      "Epoch 19/50\n",
      "\u001b[1m200/200\u001b[0m \u001b[32m━━━━━━━━━━━━━━━━━━━━\u001b[0m\u001b[37m\u001b[0m \u001b[1m1s\u001b[0m 3ms/step - loss: 1.0208 - mae: 0.7682 - val_loss: 1.5862 - val_mae: 0.9895\n",
      "Epoch 20/50\n",
      "\u001b[1m200/200\u001b[0m \u001b[32m━━━━━━━━━━━━━━━━━━━━\u001b[0m\u001b[37m\u001b[0m \u001b[1m1s\u001b[0m 3ms/step - loss: 1.0232 - mae: 0.7683 - val_loss: 1.6349 - val_mae: 1.0247\n",
      "Epoch 21/50\n",
      "\u001b[1m200/200\u001b[0m \u001b[32m━━━━━━━━━━━━━━━━━━━━\u001b[0m\u001b[37m\u001b[0m \u001b[1m1s\u001b[0m 3ms/step - loss: 0.9723 - mae: 0.7473 - val_loss: 1.6425 - val_mae: 1.0239\n",
      "Epoch 22/50\n",
      "\u001b[1m200/200\u001b[0m \u001b[32m━━━━━━━━━━━━━━━━━━━━\u001b[0m\u001b[37m\u001b[0m \u001b[1m1s\u001b[0m 3ms/step - loss: 0.9867 - mae: 0.7528 - val_loss: 1.6085 - val_mae: 1.0080\n",
      "Epoch 23/50\n",
      "\u001b[1m200/200\u001b[0m \u001b[32m━━━━━━━━━━━━━━━━━━━━\u001b[0m\u001b[37m\u001b[0m \u001b[1m0s\u001b[0m 2ms/step - loss: 0.9606 - mae: 0.7404 - val_loss: 1.6189 - val_mae: 0.9937\n",
      "Epoch 24/50\n",
      "\u001b[1m200/200\u001b[0m \u001b[32m━━━━━━━━━━━━━━━━━━━━\u001b[0m\u001b[37m\u001b[0m \u001b[1m0s\u001b[0m 2ms/step - loss: 0.9146 - mae: 0.7206 - val_loss: 1.6927 - val_mae: 1.0327\n",
      "Epoch 25/50\n",
      "\u001b[1m200/200\u001b[0m \u001b[32m━━━━━━━━━━━━━━━━━━━━\u001b[0m\u001b[37m\u001b[0m \u001b[1m0s\u001b[0m 2ms/step - loss: 0.9334 - mae: 0.7241 - val_loss: 1.6804 - val_mae: 1.0326\n",
      "Epoch 26/50\n",
      "\u001b[1m200/200\u001b[0m \u001b[32m━━━━━━━━━━━━━━━━━━━━\u001b[0m\u001b[37m\u001b[0m \u001b[1m0s\u001b[0m 2ms/step - loss: 0.8813 - mae: 0.7183 - val_loss: 1.6664 - val_mae: 1.0329\n",
      "Epoch 27/50\n",
      "\u001b[1m200/200\u001b[0m \u001b[32m━━━━━━━━━━━━━━━━━━━━\u001b[0m\u001b[37m\u001b[0m \u001b[1m0s\u001b[0m 2ms/step - loss: 0.8757 - mae: 0.7093 - val_loss: 1.6645 - val_mae: 1.0133\n",
      "Epoch 28/50\n",
      "\u001b[1m200/200\u001b[0m \u001b[32m━━━━━━━━━━━━━━━━━━━━\u001b[0m\u001b[37m\u001b[0m \u001b[1m0s\u001b[0m 2ms/step - loss: 0.8968 - mae: 0.7166 - val_loss: 1.6871 - val_mae: 1.0186\n",
      "Epoch 29/50\n",
      "\u001b[1m200/200\u001b[0m \u001b[32m━━━━━━━━━━━━━━━━━━━━\u001b[0m\u001b[37m\u001b[0m \u001b[1m1s\u001b[0m 3ms/step - loss: 0.9056 - mae: 0.7123 - val_loss: 1.6509 - val_mae: 1.0060\n",
      "Epoch 30/50\n",
      "\u001b[1m200/200\u001b[0m \u001b[32m━━━━━━━━━━━━━━━━━━━━\u001b[0m\u001b[37m\u001b[0m \u001b[1m0s\u001b[0m 2ms/step - loss: 0.8750 - mae: 0.7038 - val_loss: 1.6873 - val_mae: 1.0379\n",
      "Epoch 31/50\n",
      "\u001b[1m200/200\u001b[0m \u001b[32m━━━━━━━━━━━━━━━━━━━━\u001b[0m\u001b[37m\u001b[0m \u001b[1m0s\u001b[0m 2ms/step - loss: 0.8313 - mae: 0.6838 - val_loss: 1.6607 - val_mae: 1.0221\n",
      "Epoch 32/50\n",
      "\u001b[1m200/200\u001b[0m \u001b[32m━━━━━━━━━━━━━━━━━━━━\u001b[0m\u001b[37m\u001b[0m \u001b[1m0s\u001b[0m 2ms/step - loss: 0.8700 - mae: 0.7012 - val_loss: 1.6440 - val_mae: 0.9769\n",
      "Epoch 33/50\n",
      "\u001b[1m200/200\u001b[0m \u001b[32m━━━━━━━━━━━━━━━━━━━━\u001b[0m\u001b[37m\u001b[0m \u001b[1m0s\u001b[0m 2ms/step - loss: 0.8444 - mae: 0.6860 - val_loss: 1.7392 - val_mae: 1.0535\n",
      "Epoch 34/50\n",
      "\u001b[1m200/200\u001b[0m \u001b[32m━━━━━━━━━━━━━━━━━━━━\u001b[0m\u001b[37m\u001b[0m \u001b[1m0s\u001b[0m 2ms/step - loss: 0.8781 - mae: 0.7061 - val_loss: 1.6343 - val_mae: 0.9690\n",
      "Epoch 35/50\n",
      "\u001b[1m200/200\u001b[0m \u001b[32m━━━━━━━━━━━━━━━━━━━━\u001b[0m\u001b[37m\u001b[0m \u001b[1m0s\u001b[0m 2ms/step - loss: 0.8746 - mae: 0.7015 - val_loss: 1.6741 - val_mae: 1.0367\n",
      "Epoch 36/50\n",
      "\u001b[1m200/200\u001b[0m \u001b[32m━━━━━━━━━━━━━━━━━━━━\u001b[0m\u001b[37m\u001b[0m \u001b[1m0s\u001b[0m 2ms/step - loss: 0.8208 - mae: 0.6817 - val_loss: 1.6380 - val_mae: 0.9913\n",
      "Epoch 37/50\n",
      "\u001b[1m200/200\u001b[0m \u001b[32m━━━━━━━━━━━━━━━━━━━━\u001b[0m\u001b[37m\u001b[0m \u001b[1m0s\u001b[0m 2ms/step - loss: 0.8202 - mae: 0.6774 - val_loss: 1.6227 - val_mae: 0.9816\n",
      "Epoch 38/50\n",
      "\u001b[1m200/200\u001b[0m \u001b[32m━━━━━━━━━━━━━━━━━━━━\u001b[0m\u001b[37m\u001b[0m \u001b[1m0s\u001b[0m 2ms/step - loss: 0.8071 - mae: 0.6694 - val_loss: 1.7188 - val_mae: 1.0570\n",
      "Epoch 39/50\n",
      "\u001b[1m200/200\u001b[0m \u001b[32m━━━━━━━━━━━━━━━━━━━━\u001b[0m\u001b[37m\u001b[0m \u001b[1m1s\u001b[0m 3ms/step - loss: 0.8107 - mae: 0.6835 - val_loss: 1.6542 - val_mae: 1.0118\n",
      "Epoch 40/50\n",
      "\u001b[1m200/200\u001b[0m \u001b[32m━━━━━━━━━━━━━━━━━━━━\u001b[0m\u001b[37m\u001b[0m \u001b[1m1s\u001b[0m 3ms/step - loss: 0.7952 - mae: 0.6689 - val_loss: 1.6972 - val_mae: 1.0404\n",
      "Epoch 41/50\n",
      "\u001b[1m200/200\u001b[0m \u001b[32m━━━━━━━━━━━━━━━━━━━━\u001b[0m\u001b[37m\u001b[0m \u001b[1m1s\u001b[0m 3ms/step - loss: 0.7994 - mae: 0.6719 - val_loss: 1.6652 - val_mae: 1.0173\n",
      "Epoch 42/50\n",
      "\u001b[1m200/200\u001b[0m \u001b[32m━━━━━━━━━━━━━━━━━━━━\u001b[0m\u001b[37m\u001b[0m \u001b[1m0s\u001b[0m 2ms/step - loss: 0.7868 - mae: 0.6690 - val_loss: 1.6656 - val_mae: 1.0088\n",
      "Epoch 43/50\n",
      "\u001b[1m200/200\u001b[0m \u001b[32m━━━━━━━━━━━━━━━━━━━━\u001b[0m\u001b[37m\u001b[0m \u001b[1m0s\u001b[0m 2ms/step - loss: 0.7969 - mae: 0.6690 - val_loss: 1.6651 - val_mae: 0.9875\n",
      "Epoch 44/50\n",
      "\u001b[1m200/200\u001b[0m \u001b[32m━━━━━━━━━━━━━━━━━━━━\u001b[0m\u001b[37m\u001b[0m \u001b[1m0s\u001b[0m 2ms/step - loss: 0.7880 - mae: 0.6591 - val_loss: 1.6738 - val_mae: 1.0108\n",
      "Epoch 45/50\n",
      "\u001b[1m200/200\u001b[0m \u001b[32m━━━━━━━━━━━━━━━━━━━━\u001b[0m\u001b[37m\u001b[0m \u001b[1m0s\u001b[0m 2ms/step - loss: 0.7662 - mae: 0.6528 - val_loss: 1.6625 - val_mae: 0.9960\n",
      "Epoch 46/50\n",
      "\u001b[1m200/200\u001b[0m \u001b[32m━━━━━━━━━━━━━━━━━━━━\u001b[0m\u001b[37m\u001b[0m \u001b[1m0s\u001b[0m 2ms/step - loss: 0.7786 - mae: 0.6657 - val_loss: 1.6636 - val_mae: 1.0157\n",
      "Epoch 47/50\n",
      "\u001b[1m200/200\u001b[0m \u001b[32m━━━━━━━━━━━━━━━━━━━━\u001b[0m\u001b[37m\u001b[0m \u001b[1m0s\u001b[0m 2ms/step - loss: 0.7812 - mae: 0.6610 - val_loss: 1.6902 - val_mae: 1.0368\n",
      "Epoch 48/50\n",
      "\u001b[1m200/200\u001b[0m \u001b[32m━━━━━━━━━━━━━━━━━━━━\u001b[0m\u001b[37m\u001b[0m \u001b[1m0s\u001b[0m 2ms/step - loss: 0.7605 - mae: 0.6478 - val_loss: 1.6521 - val_mae: 0.9727\n",
      "Epoch 49/50\n",
      "\u001b[1m200/200\u001b[0m \u001b[32m━━━━━━━━━━━━━━━━━━━━\u001b[0m\u001b[37m\u001b[0m \u001b[1m0s\u001b[0m 2ms/step - loss: 0.7597 - mae: 0.6493 - val_loss: 1.7237 - val_mae: 1.0497\n",
      "Epoch 50/50\n",
      "\u001b[1m200/200\u001b[0m \u001b[32m━━━━━━━━━━━━━━━━━━━━\u001b[0m\u001b[37m\u001b[0m \u001b[1m0s\u001b[0m 2ms/step - loss: 0.7878 - mae: 0.6589 - val_loss: 1.6918 - val_mae: 1.0196\n",
      "\u001b[1m63/63\u001b[0m \u001b[32m━━━━━━━━━━━━━━━━━━━━\u001b[0m\u001b[37m\u001b[0m \u001b[1m0s\u001b[0m 772us/step - loss: 1.6565 - mae: 1.0107\n",
      "Test MAE: 1.021934986114502\n"
     ]
    }
   ],
   "source": [
    "# Here we add dropout layers to help with the overfitting\n",
    "def create_model_do():\n",
    "    return tf.keras.Sequential([\n",
    "                tf.keras.layers.Input(shape=(input_shape,)),\n",
    "                tf.keras.layers.Dense(64),\n",
    "                tf.keras.layers.BatchNormalization(),  \n",
    "                tf.keras.layers.Dropout(0.2), \n",
    "                tf.keras.layers.Activation('relu'),\n",
    "                tf.keras.layers.Dense(64),\n",
    "                tf.keras.layers.BatchNormalization(),  \n",
    "                tf.keras.layers.Dropout(0.2), \n",
    "                tf.keras.layers.Activation('relu'),\n",
    "                tf.keras.layers.Dense(1)  \n",
    "])\n",
    "\n",
    "train_model(create_model_do, 'model_with_batch_normalization_and_dropout')"
   ]
  },
  {
   "cell_type": "code",
   "execution_count": null,
   "id": "bfe4645f",
   "metadata": {},
   "outputs": [],
   "source": []
  }
 ],
 "metadata": {
  "kernelspec": {
   "display_name": "Python 3 (ipykernel)",
   "language": "python",
   "name": "python3"
  },
  "language_info": {
   "codemirror_mode": {
    "name": "ipython",
    "version": 3
   },
   "file_extension": ".py",
   "mimetype": "text/x-python",
   "name": "python",
   "nbconvert_exporter": "python",
   "pygments_lexer": "ipython3",
   "version": "3.9.13"
  }
 },
 "nbformat": 4,
 "nbformat_minor": 5
}
